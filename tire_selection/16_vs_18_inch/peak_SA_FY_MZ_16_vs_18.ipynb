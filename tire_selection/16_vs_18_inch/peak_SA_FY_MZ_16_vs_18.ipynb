{
 "cells": [
  {
   "cell_type": "code",
   "execution_count": 2,
   "metadata": {},
   "outputs": [],
   "source": [
    "%matplotlib inline\n",
    "import matplotlib.pyplot as plt\n",
    "import pandas as pd\n",
    "import numpy as np\n",
    "import warnings\n",
    "warnings.simplefilter(action='ignore', category=FutureWarning)\n",
    "\n",
    "import sys\n",
    "sys.path.append(\"../\")"
   ]
  },
  {
   "cell_type": "markdown",
   "metadata": {},
   "source": [
    "### Import Desired Tires"
   ]
  },
  {
   "cell_type": "code",
   "execution_count": 3,
   "metadata": {},
   "outputs": [],
   "source": [
    "all_tires = {\n",
    "    \"Hoosier_16x7.5-10_R20_7_cornering\":{\"long\":None, \"lat\":None},\n",
    "    \"Hoosier_18x6.0-10_R20_7_cornering\":{\"long\":None, \"lat\":None},\n",
    "}"
   ]
  },
  {
   "cell_type": "markdown",
   "metadata": {},
   "source": [
    "### Filter Data"
   ]
  },
  {
   "cell_type": "code",
   "execution_count": 4,
   "metadata": {},
   "outputs": [],
   "source": [
    "camber = 0 # default camber\n",
    "pressure = 12 * 6.89476 # default pressure\n",
    "velocity = 25 * 1.60934 # default velocity\n",
    "slip_angle = 0\n",
    "tire_scaling = 2/3\n",
    "\n",
    "tire_dict = all_tires.items()\n",
    "\n",
    "for name, tire in tire_dict:\n",
    "    try:\n",
    "        df = pd.read_csv(f\"../../processing/results/{name}.csv\")\n",
    "        tire[\"long\"] = df[(df[\"pressure\"] == pressure) & (df[\"velocity\"] == velocity) & (df[\"camber\"] == camber) & (df[\"slip\"] == slip_angle)]\n",
    "    except:\n",
    "        print(\"Error getting long data for {0}\".format(name))\n",
    "\n",
    "    try:\n",
    "        df = pd.read_csv(f\"../../processing/results/{name}.csv\")\n",
    "        tire[\"lat\"] = df[((df[\"velocity\"] == velocity) & (df[\"pressure\"] == pressure))]\n",
    "    except:\n",
    "        print(\"Error getting lateral data for {0}\".format(name))"
   ]
  },
  {
   "cell_type": "markdown",
   "metadata": {},
   "source": [
    "### Calculate Peak FY & MZ and Isolate Respective SAs"
   ]
  },
  {
   "cell_type": "code",
   "execution_count": 5,
   "metadata": {},
   "outputs": [
    {
     "name": "stderr",
     "output_type": "stream",
     "text": [
      "C:\\Users\\rober\\AppData\\Local\\Temp\\ipykernel_12364\\2965598909.py:17: UserWarning: Boolean Series key will be reindexed to match DataFrame index.\n",
      "  temp2 = tire[\"lat\"][tire[\"lat\"][\"load\"] == load][(tire[\"lat\"][\"SA\"] < 7.5) & (tire[\"lat\"][\"SA\"] > -7.5)]\n"
     ]
    }
   ],
   "source": [
    "tires = []\n",
    "SA_peak_FY = []\n",
    "SA_peak_MZ = []\n",
    "FZ_lst = []\n",
    "\n",
    "normal_loads = sorted(np.array(tire[\"lat\"][\"load\"].unique()))\n",
    "\n",
    "for name, tire in all_tires.items():\n",
    "    current_SA_peak_FY = []\n",
    "    current_SA_peak_MZ = []\n",
    "    current_FZ = []\n",
    "    for load in normal_loads:\n",
    "        if load > -300:\n",
    "            continue\n",
    "        \n",
    "        temp = tire[\"lat\"][tire[\"lat\"][\"load\"] == load]\n",
    "        temp2 = tire[\"lat\"][tire[\"lat\"][\"load\"] == load][(tire[\"lat\"][\"SA\"] < 7.5) & (tire[\"lat\"][\"SA\"] > -7.5)]\n",
    "\n",
    "        FY_max_min = [min(temp[\"FY\"]), max(temp[\"FY\"])]\n",
    "        abs_max_FY = max([abs(x) for x in FY_max_min])\n",
    "        if abs_max_FY not in FY_max_min:\n",
    "            abs_max_FY *= -1\n",
    "\n",
    "        MZ_max_min = [max(temp2[\"MZ\"])]\n",
    "        abs_max_MZ = max([abs(x) for x in MZ_max_min])\n",
    "        if abs_max_MZ not in MZ_max_min:\n",
    "            abs_max_MZ *= -1\n",
    "        \n",
    "        peak_FY_SA = abs(tire[\"lat\"][tire[\"lat\"][\"FY\"] == abs_max_FY][\"SA\"].tolist()[0])\n",
    "        peak_MZ_SA = abs(tire[\"lat\"][tire[\"lat\"][\"MZ\"] == abs_max_MZ][\"SA\"].tolist()[0])\n",
    "\n",
    "        current_SA_peak_FY.append(peak_FY_SA)\n",
    "        current_SA_peak_MZ.append(peak_MZ_SA)\n",
    "        current_FZ.append(load)\n",
    "\n",
    "        # print(peak_FY_SA, peak_MZ_SA)\n",
    "\n",
    "        # if peak_MZ_SA < 3:\n",
    "        #     print(peak_MZ_SA)\n",
    "        #     plt.plot(temp[\"SA\"], temp[\"FY\"])\n",
    "        #     plt.plot(temp[\"SA\"], 100 * temp[\"MZ\"])\n",
    "\n",
    "        # SA_vals.append(peak_FY_SA)\n",
    "        # FZ_current.append(load)\n",
    "\n",
    "        # print(peak_FY_SA)\n",
    "\n",
    "        # plt.title(f\"{load}\")\n",
    "        # plt.plot(temp[\"SA\"], temp[\"FY\"])\n",
    "    \n",
    "    SA_peak_FY.append(current_SA_peak_FY)\n",
    "    SA_peak_MZ.append(current_SA_peak_MZ)\n",
    "    FZ_lst.append(current_FZ)\n",
    "    tires.append(name[:23])"
   ]
  },
  {
   "cell_type": "markdown",
   "metadata": {},
   "source": [
    "### Save SA to .csv"
   ]
  },
  {
   "cell_type": "code",
   "execution_count": 6,
   "metadata": {},
   "outputs": [],
   "source": [
    "diff_arr = np.array(SA_peak_FY) - np.array(SA_peak_MZ)\n",
    "\n",
    "output_df = pd.DataFrame()\n",
    "output_df[\"Tire\"] = [tire[8:] for tire in tires]\n",
    "output_df[\"SA at Peak FY\"] = SA_peak_FY\n",
    "output_df[\"SA at Peak MZ\"] = SA_peak_MZ\n",
    "output_df[\"Average Difference\"] = [round(sum(arr) / len(arr), 3) for arr in diff_arr]\n",
    "\n",
    "output_df = output_df.sort_values(\"Average Difference\")\n",
    "\n",
    "output_df.to_csv(\"16_inch_peak_FY_MZ_SA.csv\")\n"
   ]
  }
 ],
 "metadata": {
  "kernelspec": {
   "display_name": "Python 3",
   "language": "python",
   "name": "python3"
  },
  "language_info": {
   "codemirror_mode": {
    "name": "ipython",
    "version": 3
   },
   "file_extension": ".py",
   "mimetype": "text/x-python",
   "name": "python",
   "nbconvert_exporter": "python",
   "pygments_lexer": "ipython3",
   "version": "3.9.6"
  },
  "orig_nbformat": 4
 },
 "nbformat": 4,
 "nbformat_minor": 2
}
