{
 "cells": [
  {
   "cell_type": "code",
   "execution_count": 1,
   "metadata": {},
   "outputs": [],
   "source": [
    "import math\n",
    "import numpy as np\n",
    "import warnings\n",
    "import matplotlib.pyplot as plt"
   ]
  },
  {
   "cell_type": "code",
   "execution_count": 2,
   "metadata": {},
   "outputs": [],
   "source": [
    "front_tire_coeff_Fy = [0.349, -0.00115, 8.760, 730.300, 1745.322, 0.0139, -0.000277, 1.02025435, 0, 0, 0, 0, 0, 0, 0, 0.00362, -0.0143, -0.0116]\n",
    "\n",
    "front_tire_coeff_Fx = [0.46024966176377113, 4000.509873697152, 1097.1712081460967, 202.18848632159495, 100.8812198037175, -0.2557010431649166, 0.3066955241461764, 0.011822770671297778, -1.9521015799737094, 0, 0, 0, 0, 0]\n",
    "\n",
    "rear_tire_coeff_Fy = [1.384, -0.0003117, -2.936, 668.1, 1599, 0.03877, 0.0003177, 0.6252, 0, 0, 0, 0, 0, 0, 0, 0.005249, 0.0508, -0.1956]\n",
    "\n",
    "rear_tire_coeff_Fx = [0.46024966176377113, 4000.509873697152, 1097.1712081460967, 202.18848632159495, 100.8812198037175, -0.2557010431649166, 0.3066955241461764, 0.011822770671297778, -1.9521015799737094, 0, 0, 0, 0, 0]"
   ]
  },
  {
   "cell_type": "code",
   "execution_count": 3,
   "metadata": {},
   "outputs": [],
   "source": [
    "def lateral_pacejka(inclination_angle:float, normal_force:float, slip_angle:float):\n",
    "        # NOTE: 1/-1 multiplier on slip_degrees is done for any non-symmetries in fit\n",
    "        slip_degrees = slip_angle # degrees\n",
    "        inclination_degrees = inclination_angle # degrees\n",
    "        \n",
    "        [a0, a1, a2, a3, a4, a5, a6, a7, a8, a9, a10, a11, a12, a13, a14, a15, a16, a17] = rear_tire_coeff_Fy\n",
    "        C = a0\n",
    "        D = normal_force * (a1 * normal_force + a2) * (1 - a15 * inclination_degrees ** 2)\n",
    "        if D == 0:\n",
    "            return 0\n",
    "        BCD = a3 * math.sin(math.atan(normal_force / a4) * 2) * (1 - a5 * abs(inclination_degrees))\n",
    "        B = BCD / (C * D)\n",
    "\n",
    "        H = a8 * normal_force + a9 + a10 * inclination_degrees\n",
    "        E = (a6 * normal_force + a7) * (1 - (a16 * inclination_degrees + a17) * math.copysign(1, slip_degrees + H))\n",
    "        V = a11 * normal_force + a12 + (a13 * normal_force + a14) * inclination_degrees * normal_force\n",
    "        Bx1 = B * (slip_degrees + H)\n",
    "        \n",
    "        # NOTE: 2/3 multiplier comes from TTC forum suggestions, including from Bill Cobb\n",
    "        test_condition_multiplier = 2/3\n",
    "        return test_condition_multiplier * (D * math.sin(C * math.atan(Bx1 - E * (Bx1 - math.atan(Bx1)))) + V)"
   ]
  },
  {
   "cell_type": "code",
   "execution_count": 4,
   "metadata": {},
   "outputs": [],
   "source": [
    "warnings.filterwarnings(\"error\")\n",
    "def longitudinal_pacejka(normal_force:float, SR:float):\n",
    "    SR = SR * 100\n",
    "    FZ = normal_force / 1000\n",
    "    [b0, b1, b2, b3, b4, b5, b6, b7, b8, b9, b10, b11, b12, b13] = rear_tire_coeff_Fx\n",
    "    C = b0\n",
    "    D = FZ * (b1 * FZ + b2)\n",
    "    try:\n",
    "        BCD = (b3 * FZ**2 + b4 * FZ) * np.exp(-1 * b5 * FZ)\n",
    "    except:\n",
    "        return 0.0001\n",
    "\n",
    "    B = BCD / (C * D)\n",
    "\n",
    "    H = b9 * FZ + b10\n",
    "\n",
    "    E = (b6 * FZ**2 + b7 * FZ + b8) * (1 - b13 * np.sign(SR + H))\n",
    "\n",
    "    V = b11 * FZ + b12\n",
    "    Bx1 = B * (SR + H)\n",
    "    \n",
    "    test_condition_multiplier = 2/3\n",
    "    FX = (D * np.sin(C * np.arctan(Bx1 - E * (Bx1 - np.arctan(Bx1)))) + V) * test_condition_multiplier\n",
    "    return FX if abs(FX) > 0 else 0.0001"
   ]
  },
  {
   "cell_type": "code",
   "execution_count": 5,
   "metadata": {},
   "outputs": [],
   "source": [
    "# Long and lat formulas from Comstock\n",
    "def com_lat(SA, SR, FX, FY, FZ, IA, Cs):\n",
    "    calc = ((FX * FY) / np.sqrt(SR**2 * FY**2 + FX**2 * (np.tan(SA))**2)) * (np.sqrt((1 - SR)**2 * (np.cos(SA))**2 * FY**2 + (np.sin(SA))**2 * Cs**2) / (Cs * np.cos(SA)))\n",
    "    return abs(calc) * -1 if SA < 0 else abs(calc)\n",
    "        \n",
    "def com_long(SA, SR, FX, FY, FZ, Ca):\n",
    "    calc = ((FX * FY) / np.sqrt(SR**2 * FY**2 + FX**2 * (np.tan(SA))**2)) * (np.sqrt(SR**2 * Ca**2 + (1 - SR)**2 * (np.cos(SA))**2 * FX**2) / Ca)\n",
    "    return abs(calc) * -1 if SR < 0 else abs(calc)\n",
    "        \n",
    "# Full comstock calculations\n",
    "def comstock(SR, SA, FZ, IA):\n",
    "    if FZ <= 0.0:\n",
    "        return np.array([0, 0, 0])\n",
    "    FX = longitudinal_pacejka(FZ, SR)\n",
    "    FY = lateral_pacejka(IA, FZ, SA)\n",
    "\n",
    "    Ca = (longitudinal_pacejka(FZ, 0.005) - longitudinal_pacejka(FZ, -0.005)) / (.01)\n",
    "    Cs = (lateral_pacejka(IA, FZ, 0.005) - lateral_pacejka(IA, FZ, -0.005)) / (.01)\n",
    "    FY = FY if abs(SA) < 0.1 else com_lat(SA, SR, FX, FY, FZ, IA, Cs) \n",
    "    FX = FX if abs(SA) < 0.1 else com_long(SA, SR, FX, FY, FZ, Ca)\n",
    "    return np.array([FX, FY, FZ])"
   ]
  },
  {
   "cell_type": "code",
   "execution_count": 6,
   "metadata": {},
   "outputs": [
    {
     "name": "stdout",
     "output_type": "stream",
     "text": [
      "Comstock Longitudinal: 680.9005787309112\n",
      "Comstock Lateral: 617.6187379639496\n",
      "Pacejka Lateral: 246.31707787600573\n",
      "Pacejka Longitudinal: 682.7049395148193\n"
     ]
    }
   ],
   "source": [
    "normal = 500\n",
    "slip_angle = 1\n",
    "slip_ratio = 20\n",
    "camber = 0\n",
    "comstock_output = list(comstock(slip_ratio, slip_angle, normal, camber))\n",
    "print(\"Comstock Longitudinal:\", comstock_output[0])\n",
    "print(\"Comstock Lateral:\", comstock_output[1])\n",
    "print(\"Pacejka Lateral:\", lateral_pacejka(camber, normal, slip_angle))\n",
    "print(\"Pacejka Longitudinal:\", longitudinal_pacejka(normal, slip_ratio))"
   ]
  },
  {
   "cell_type": "markdown",
   "metadata": {},
   "source": [
    "### urmom"
   ]
  }
 ],
 "metadata": {
  "kernelspec": {
   "display_name": "Python 3.9.6 64-bit",
   "language": "python",
   "name": "python3"
  },
  "language_info": {
   "codemirror_mode": {
    "name": "ipython",
    "version": 3
   },
   "file_extension": ".py",
   "mimetype": "text/x-python",
   "name": "python",
   "nbconvert_exporter": "python",
   "pygments_lexer": "ipython3",
   "version": "3.9.6"
  },
  "orig_nbformat": 4,
  "vscode": {
   "interpreter": {
    "hash": "96037f85dadcfacbc277a98f657843dd884e27b47e8fbad0ad66dcb49a88429b"
   }
  }
 },
 "nbformat": 4,
 "nbformat_minor": 2
}
