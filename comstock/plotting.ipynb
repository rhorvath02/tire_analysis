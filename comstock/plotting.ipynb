{
 "cells": [
  {
   "cell_type": "code",
   "execution_count": 169,
   "metadata": {},
   "outputs": [],
   "source": [
    "%matplotlib inline\n",
    "import matplotlib.pyplot as plt\n",
    "import pandas as pd\n",
    "import numpy as np\n",
    "from mpl_toolkits.mplot3d import Axes3D"
   ]
  },
  {
   "cell_type": "markdown",
   "metadata": {},
   "source": [
    "### Fixed Values for Model"
   ]
  },
  {
   "cell_type": "code",
   "execution_count": 161,
   "metadata": {},
   "outputs": [],
   "source": [
    "IA = 0 # deg\n",
    "FZ = -500 # N"
   ]
  },
  {
   "cell_type": "markdown",
   "metadata": {},
   "source": [
    "### Pacejka Fits"
   ]
  },
  {
   "cell_type": "code",
   "execution_count": 289,
   "metadata": {},
   "outputs": [],
   "source": [
    "def lat_fit(data, a0, a1, a2, a3, a4, a5, a6, a7, a8, a9, a10, a11, a12, a13, a14, a15, a16, a17):\n",
    "    FZ = data[0]\n",
    "    SA = data[1]\n",
    "    IA = data[2]\n",
    "\n",
    "    C = a0\n",
    "    D = FZ * (a1 * FZ + a2) * (1 - a15 * IA**2)\n",
    "    \n",
    "    BCD = a3 * np.sin(np.arctan(FZ / a4) * 2) * (1 - a5 * abs(IA))\n",
    "    B = BCD / (C * D)\n",
    "    H = a8 * FZ + a9 + a10 * IA\n",
    "\n",
    "    E = (a6 * FZ + a7) * (1 - (a16 * IA + a17) * np.sign(SA + H))\n",
    "\n",
    "    V = a11 * FZ + a12 + (a13 * FZ + a14) * IA * FZ\n",
    "    Bx1 = B * (SA + H)\n",
    "\n",
    "    return ((D * np.sin(C * np.arctan(Bx1 - E * (Bx1 - np.arctan(Bx1)))) + V), B, C)\n",
    "\n",
    "def long_fit(data, b0, b1, b2, b3, b4, b5, b6, b7, b8, b9, b10, b11, b12, b13):\n",
    "    FZ = data[0] / 1000 * -1\n",
    "    SR = data[1]\n",
    "\n",
    "    C = b0\n",
    "    D = FZ * (b1 * FZ + b2)\n",
    "    \n",
    "    BCD = (b3 * FZ**2 + b4 * FZ) * np.exp(-1 * b5 * FZ)\n",
    "    B = BCD / (C * D)\n",
    "    H = b9 * FZ + b10\n",
    "\n",
    "    E = (b6 * FZ**2 + b7 * FZ + b8) * (1 - b13 * np.sign(SR + H))\n",
    "\n",
    "    V = b11 * FZ + b12\n",
    "    Bx1 = B * (SR + H)\n",
    "\n",
    "    return ((D * np.sin(C * np.arctan(Bx1 - E * (Bx1 - np.arctan(Bx1)))) + V), B, C)"
   ]
  },
  {
   "cell_type": "markdown",
   "metadata": {},
   "source": [
    "### Comstock Equations"
   ]
  },
  {
   "cell_type": "code",
   "execution_count": 280,
   "metadata": {},
   "outputs": [],
   "source": [
    "def com_lat(SA, SR, FX, FY, Cs):\n",
    "    return ((FX * FY) / np.sqrt(SR**2 * FY**2 + FX**2 * (np.tan(SA * (np.pi / 180)))**2)) * (np.sqrt((1 - SR)**2 * (np.cos(SA * (np.pi / 180)))**2 * FY**2 + (np.sin(SA * (np.pi / 180)))**2 * Cs**2) / (Cs * np.cos(SA * (np.pi / 180))))\n",
    "        \n",
    "def com_long(SA, SR, FX, FY, Ca):\n",
    "    return ((FX * FY) / np.sqrt(SR**2 * FY**2 + FX**2 * (np.tan(SA * (np.pi / 180)))**2)) * (np.sqrt(SR**2 * Ca**2 + (1 - SR)**2 * (np.cos(SA * (np.pi / 180)))**2 * FX**2) / Ca)"
   ]
  },
  {
   "cell_type": "markdown",
   "metadata": {},
   "source": [
    "### Pacejka Fit Coefficients"
   ]
  },
  {
   "cell_type": "code",
   "execution_count": 281,
   "metadata": {},
   "outputs": [],
   "source": [
    "front_lat = [0.349, -0.00115, 8.760, 730.300, 1745.322, 0.0139, -0.000277, 1.02025435, 0.000158, 0.149, -0.1595, 0.0329, 9.153,  0.00001406, 0.0328, 0.00362, -0.0143, -0.0116]\n",
    "\n",
    "front_long = [0.771, 192.991, 3001.746, -403.002, 702.111, -0.492, 2.223, -1.97729069, -4.017, -2.669, 3.366, 2.044, -1.263, 0.353]\n",
    "\n",
    "rear_lat = [1.384, -0.0003117, -2.936, 668.1, 1599, 0.03877, 0.0003177, 0.6252, 7.733e-05, -0.08382, -0.1171, 0.04597, 3.107, 5.41e-05, 0.04736, 0.005249, 0.0508, -0.1956]\n",
    "\n",
    "rear_long = [0.9541497204155789, 192.8002686339246, 3003.620805462048, -399.72135093091333, 703.1031651893918, -0.6318690403434442, 1.4820764660971453, 0.9562715863473592, \n",
    "-3.2673329873816304, -0.7227790406912731, 0.7574230840392217, 0.8678660791229866, -4.582653049752284, -0.5261588380995105]"
   ]
  },
  {
   "cell_type": "markdown",
   "metadata": {},
   "source": [
    "### Rear Tire"
   ]
  },
  {
   "cell_type": "code",
   "execution_count": 285,
   "metadata": {},
   "outputs": [],
   "source": [
    "def comstock(SR, SA):\n",
    "    FX_fit = long_fit([FZ, SR], *rear_long)\n",
    "    FY_fit = lat_fit([FZ, SA, IA], *rear_lat)\n",
    "\n",
    "    FX = FX_fit[0]\n",
    "    FY = FY_fit[0]\n",
    "\n",
    "    Ca = (long_fit([FZ, 1], *rear_long)[0] - long_fit([FZ, -1], *rear_long)[0]) / 2\n",
    "    Cs = (lat_fit([FZ, 1, IA], *rear_lat)[0] - lat_fit([FZ, -1, IA], *rear_lat)[0]) / 2\n",
    "\n",
    "    return (com_long(SA, SR, FX, FY, Ca), com_lat(SA, SR, FX, FY, Cs))"
   ]
  },
  {
   "cell_type": "code",
   "execution_count": 271,
   "metadata": {},
   "outputs": [],
   "source": [
    "# print(comstock(0, 5)) # SR, SA\n",
    "# print(long_fit([FZ, 0], *rear_long))"
   ]
  },
  {
   "cell_type": "markdown",
   "metadata": {},
   "source": [
    "### Rear Tire Plots"
   ]
  },
  {
   "cell_type": "code",
   "execution_count": 290,
   "metadata": {},
   "outputs": [
    {
     "ename": "ValueError",
     "evalue": "The truth value of an array with more than one element is ambiguous. Use a.any() or a.all()",
     "output_type": "error",
     "traceback": [
      "\u001b[1;31m---------------------------------------------------------------------------\u001b[0m",
      "\u001b[1;31mValueError\u001b[0m                                Traceback (most recent call last)",
      "\u001b[1;32mc:\\Users\\rober\\Documents\\GitHub\\tire_analysis\\comstock\\plotting.ipynb Cell 14\u001b[0m in \u001b[0;36m<cell line: 9>\u001b[1;34m()\u001b[0m\n\u001b[0;32m      <a href='vscode-notebook-cell:/c%3A/Users/rober/Documents/GitHub/tire_analysis/comstock/plotting.ipynb#X16sZmlsZQ%3D%3D?line=5'>6</a>\u001b[0m fig \u001b[39m=\u001b[39m plt\u001b[39m.\u001b[39mfigure()\n\u001b[0;32m      <a href='vscode-notebook-cell:/c%3A/Users/rober/Documents/GitHub/tire_analysis/comstock/plotting.ipynb#X16sZmlsZQ%3D%3D?line=6'>7</a>\u001b[0m ax \u001b[39m=\u001b[39m Axes3D(fig, auto_add_to_figure\u001b[39m=\u001b[39m\u001b[39mFalse\u001b[39;00m)\n\u001b[1;32m----> <a href='vscode-notebook-cell:/c%3A/Users/rober/Documents/GitHub/tire_analysis/comstock/plotting.ipynb#X16sZmlsZQ%3D%3D?line=8'>9</a>\u001b[0m FX \u001b[39m=\u001b[39m comstock(SR, SA)[\u001b[39m0\u001b[39m] \u001b[39m*\u001b[39m FZ \u001b[39m*\u001b[39m \u001b[39m-\u001b[39m\u001b[39m1\u001b[39m\n\u001b[0;32m     <a href='vscode-notebook-cell:/c%3A/Users/rober/Documents/GitHub/tire_analysis/comstock/plotting.ipynb#X16sZmlsZQ%3D%3D?line=9'>10</a>\u001b[0m FY \u001b[39m=\u001b[39m comstock(SR, SA)[\u001b[39m1\u001b[39m] \u001b[39m*\u001b[39m FZ \u001b[39m*\u001b[39m \u001b[39m-\u001b[39m\u001b[39m1\u001b[39m\n\u001b[0;32m     <a href='vscode-notebook-cell:/c%3A/Users/rober/Documents/GitHub/tire_analysis/comstock/plotting.ipynb#X16sZmlsZQ%3D%3D?line=11'>12</a>\u001b[0m ax \u001b[39m=\u001b[39m plt\u001b[39m.\u001b[39maxes(projection\u001b[39m=\u001b[39m\u001b[39m'\u001b[39m\u001b[39m3d\u001b[39m\u001b[39m'\u001b[39m)\n",
      "\u001b[1;32mc:\\Users\\rober\\Documents\\GitHub\\tire_analysis\\comstock\\plotting.ipynb Cell 14\u001b[0m in \u001b[0;36mcomstock\u001b[1;34m(SR, SA)\u001b[0m\n\u001b[0;32m      <a href='vscode-notebook-cell:/c%3A/Users/rober/Documents/GitHub/tire_analysis/comstock/plotting.ipynb#X16sZmlsZQ%3D%3D?line=0'>1</a>\u001b[0m \u001b[39mdef\u001b[39;00m \u001b[39mcomstock\u001b[39m(SR, SA):\n\u001b[1;32m----> <a href='vscode-notebook-cell:/c%3A/Users/rober/Documents/GitHub/tire_analysis/comstock/plotting.ipynb#X16sZmlsZQ%3D%3D?line=1'>2</a>\u001b[0m     FX_fit \u001b[39m=\u001b[39m long_fit([FZ, SR], \u001b[39m*\u001b[39;49mrear_long)\n\u001b[0;32m      <a href='vscode-notebook-cell:/c%3A/Users/rober/Documents/GitHub/tire_analysis/comstock/plotting.ipynb#X16sZmlsZQ%3D%3D?line=2'>3</a>\u001b[0m     FY_fit \u001b[39m=\u001b[39m lat_fit([FZ, SA, IA], \u001b[39m*\u001b[39mrear_lat)\n\u001b[0;32m      <a href='vscode-notebook-cell:/c%3A/Users/rober/Documents/GitHub/tire_analysis/comstock/plotting.ipynb#X16sZmlsZQ%3D%3D?line=4'>5</a>\u001b[0m     FX \u001b[39m=\u001b[39m FX_fit[\u001b[39m0\u001b[39m]\n",
      "\u001b[1;32mc:\\Users\\rober\\Documents\\GitHub\\tire_analysis\\comstock\\plotting.ipynb Cell 14\u001b[0m in \u001b[0;36mlong_fit\u001b[1;34m(data, b0, b1, b2, b3, b4, b5, b6, b7, b8, b9, b10, b11, b12, b13)\u001b[0m\n\u001b[0;32m     <a href='vscode-notebook-cell:/c%3A/Users/rober/Documents/GitHub/tire_analysis/comstock/plotting.ipynb#X16sZmlsZQ%3D%3D?line=35'>36</a>\u001b[0m Bx1 \u001b[39m=\u001b[39m B \u001b[39m*\u001b[39m (SR \u001b[39m+\u001b[39m H)\n\u001b[0;32m     <a href='vscode-notebook-cell:/c%3A/Users/rober/Documents/GitHub/tire_analysis/comstock/plotting.ipynb#X16sZmlsZQ%3D%3D?line=37'>38</a>\u001b[0m force \u001b[39m=\u001b[39m (D \u001b[39m*\u001b[39m np\u001b[39m.\u001b[39msin(C \u001b[39m*\u001b[39m np\u001b[39m.\u001b[39marctan(Bx1 \u001b[39m-\u001b[39m E \u001b[39m*\u001b[39m (Bx1 \u001b[39m-\u001b[39m np\u001b[39m.\u001b[39marctan(Bx1)))) \u001b[39m+\u001b[39m V)\n\u001b[1;32m---> <a href='vscode-notebook-cell:/c%3A/Users/rober/Documents/GitHub/tire_analysis/comstock/plotting.ipynb#X16sZmlsZQ%3D%3D?line=39'>40</a>\u001b[0m \u001b[39mreturn\u001b[39;00m (\u001b[39m1\u001b[39m, B, C) \u001b[39mif\u001b[39;00m \u001b[39mabs\u001b[39;49m(force[\u001b[39m0\u001b[39;49m]) \u001b[39m<\u001b[39;49m \u001b[39m1\u001b[39;49m \u001b[39melse\u001b[39;00m (force, B, C)\n",
      "\u001b[1;31mValueError\u001b[0m: The truth value of an array with more than one element is ambiguous. Use a.any() or a.all()"
     ]
    },
    {
     "data": {
      "text/plain": [
       "<Figure size 640x480 with 0 Axes>"
      ]
     },
     "metadata": {},
     "output_type": "display_data"
    }
   ],
   "source": [
    "model_SA_data = np.linspace(0.2, 25, 1000)\n",
    "model_SR_data = np.linspace(0.2, 25, 1000)\n",
    "\n",
    "SA, SR = np.meshgrid(model_SA_data, model_SR_data)\n",
    "\n",
    "fig = plt.figure()\n",
    "ax = Axes3D(fig, auto_add_to_figure=False)\n",
    "\n",
    "FX = comstock(SR, SA)[0] * FZ * -1\n",
    "FY = comstock(SR, SA)[1] * FZ * -1\n",
    "\n",
    "ax = plt.axes(projection='3d')\n",
    "\n",
    "fig.add_axes(ax)\n",
    "ax.plot_surface(SR, SA, FY)\n",
    "\n",
    "ax.set_xlabel('Slip Ratio (%)')\n",
    "ax.set_ylabel('Slip Angle (deg)')\n",
    "ax.set_zlabel('Longitudinal Force (kN)')\n",
    "\n",
    "# plt.plot(FY, FX)"
   ]
  }
 ],
 "metadata": {
  "kernelspec": {
   "display_name": "Python 3.9.6 64-bit",
   "language": "python",
   "name": "python3"
  },
  "language_info": {
   "codemirror_mode": {
    "name": "ipython",
    "version": 3
   },
   "file_extension": ".py",
   "mimetype": "text/x-python",
   "name": "python",
   "nbconvert_exporter": "python",
   "pygments_lexer": "ipython3",
   "version": "3.9.6"
  },
  "orig_nbformat": 4,
  "vscode": {
   "interpreter": {
    "hash": "96037f85dadcfacbc277a98f657843dd884e27b47e8fbad0ad66dcb49a88429b"
   }
  }
 },
 "nbformat": 4,
 "nbformat_minor": 2
}
