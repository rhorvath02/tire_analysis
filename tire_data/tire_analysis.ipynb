{
 "cells": [
  {
   "cell_type": "code",
   "execution_count": 143,
   "metadata": {},
   "outputs": [],
   "source": [
    "import matplotlib.pyplot as plt\n",
    "import pandas as pd\n",
    "import numpy as np\n",
    "import seaborn as sns\n",
    "from mpl_toolkits.mplot3d import Axes3D"
   ]
  },
  {
   "cell_type": "code",
   "execution_count": 144,
   "metadata": {},
   "outputs": [],
   "source": [
    "round6_tires = {\"hoosier_LCO_18.0x6.0_10x6\":{\"long\":None, \"lat\":None},\n",
    "\"hoosier_LCO_18.0x6.0_10x7\":{\"long\":None, \"lat\":None},\n",
    "\"hoosier_r25b_18.0x6.0_10x7\":{\"long\":None, \"lat\":None},\n",
    "\"hoosier_r25b_18.0x7.5_10x7\":{\"long\":None, \"lat\":None},\n",
    "\"hoosier_r25b_18.0x7.5_10x8\":{\"long\":None, \"lat\":None}}\n",
    "\n",
    "camber = 0 # default camber\n",
    "pressure = 12 * 6.89476 # default pressure\n",
    "velocity = 25 * 1.60934 # default velocity\n",
    "slip_angle = 0\n",
    "slip_ratio = 0\n",
    "run_num = 1\n",
    "normalized_CS = True"
   ]
  },
  {
   "cell_type": "code",
   "execution_count": 145,
   "metadata": {},
   "outputs": [],
   "source": [
    "for name, tire in round6_tires.items():\n",
    "    try:\n",
    "        df = pd.read_csv(f\"../tire_data/processed_data/Round6_10in/braking_{name}.csv\")\n",
    "        tire[\"long\"] = df[(df[\"pressure\"] == pressure) & (df[\"velocity\"] == velocity) & (df[\"slip\"] == slip_angle) & (df[\"camber\"] == camber)]\n",
    "        # & (df[\"SL\"] < slip_ratio + 0.25) & (df[\"SL\"] > slip_ratio - 0.25)\n",
    "        # print(tire[\"long\"])\n",
    "        \n",
    "    except:\n",
    "        print(\"Error getting long data for {0}\".format(name))\n",
    "\n",
    "    try:\n",
    "        df = pd.read_csv(f\"../tire_data/processed_data/Round6_10in/cornering_{name}.csv\")\n",
    "        tire[\"lat\"] = df[(df[\"velocity\"] == velocity) & (df[\"pressure\"] == pressure) & (df[\"SR\"] < 0.075) & (df[\"SR\"] > -0.075) & (df[\"camber\"] == camber)]\n",
    "        # print(tire[\"lat\"])\n",
    "\n",
    "    except:\n",
    "        print(\"Error getting lateral data for {0}\".format(name))"
   ]
  },
  {
   "cell_type": "code",
   "execution_count": 146,
   "metadata": {},
   "outputs": [],
   "source": [
    "def cornering_stiffness(lat_df):\n",
    "    filtered_data = [x for x in lat_df[\"SA\"].unique() if abs(x) < 0.1]\n",
    "    filtered_data.sort()\n",
    "    max_SA = filtered_data[-1]\n",
    "    min_SA = filtered_data[0]\n",
    "\n",
    "    max_FY = lat_df[lat_df[\"SA\"] == max_SA][\"FY\"]\n",
    "    min_FY = lat_df[lat_df[\"SA\"] == min_SA][\"FY\"]\n",
    "\n",
    "    return abs((max(max_FY) - max(min_FY)) / (max_SA - min_SA))\n"
   ]
  },
  {
   "cell_type": "code",
   "execution_count": 147,
   "metadata": {},
   "outputs": [],
   "source": [
    "lat_long = \"lat\"\n",
    "\n",
    "tire_matrix = []\n",
    "\n",
    "for tire in round6_tires:\n",
    "    tire_matrix.append(round6_tires[tire][f\"{lat_long}\"])"
   ]
  },
  {
   "cell_type": "code",
   "execution_count": 148,
   "metadata": {},
   "outputs": [],
   "source": [
    "load_classification_matrix = [[] for x in range(len(tire_matrix))]\n",
    "\n",
    "for tire_data in tire_matrix:\n",
    "    loads = np.array(tire_data[\"load\"].unique())\n",
    "    for i in range(len(loads)):\n",
    "        load_classification_matrix[i].append(tire_data[tire_data[\"load\"] == loads[i]])\n"
   ]
  },
  {
   "cell_type": "code",
   "execution_count": 149,
   "metadata": {},
   "outputs": [],
   "source": [
    "cornering_stiffness_matrix = [[] for x in range(len(load_classification_matrix))]\n",
    "\n",
    "if normalized_CS:\n",
    "    j = -1\n",
    "    for tire in load_classification_matrix:\n",
    "        j += 1\n",
    "        for i in range(len(tire)):\n",
    "            cornering_stiffness_matrix[j].append(cornering_stiffness(tire[i]) / max(tire[i][\"load\"]) * -1)\n",
    "\n",
    "else:\n",
    "    j = -1\n",
    "    for tire in load_classification_matrix:\n",
    "        j += 1\n",
    "        for i in range(len(tire)):\n",
    "            cornering_stiffness_matrix[j].append(cornering_stiffness(tire[i]) * -1)"
   ]
  },
  {
   "cell_type": "code",
   "execution_count": 151,
   "metadata": {},
   "outputs": [
    {
     "data": {
      "text/plain": [
       "Text(0, 0.5, 'Normalized Cornering Stiffness (deg^-1)')"
      ]
     },
     "execution_count": 151,
     "metadata": {},
     "output_type": "execute_result"
    },
    {
     "data": {
      "image/png": "[encoded data removed]",
      "text/plain": [
       "<Figure size 640x480 with 1 Axes>"
      ]
     },
     "metadata": {},
     "output_type": "display_data"
    }
   ],
   "source": [
    "for i in range(len(cornering_stiffness_matrix)):\n",
    "    for j in range(len(cornering_stiffness_matrix[0])):\n",
    "        plt.scatter([x for x in range(len(cornering_stiffness_matrix))], cornering_stiffness_matrix[j])\n",
    "\n",
    "plt.xlabel(\"Tire\")\n",
    "plt.ylabel(\"Normalized Cornering Stiffness (deg^-1)\")"
   ]
  }
 ],
 "metadata": {
  "kernelspec": {
   "display_name": "Python 3.9.6 64-bit",
   "language": "python",
   "name": "python3"
  },
  "language_info": {
   "codemirror_mode": {
    "name": "ipython",
    "version": 3
   },
   "file_extension": ".py",
   "mimetype": "text/x-python",
   "name": "python",
   "nbconvert_exporter": "python",
   "pygments_lexer": "ipython3",
   "version": "3.9.6"
  },
  "orig_nbformat": 4,
  "vscode": {
   "interpreter": {
    "hash": "96037f85dadcfacbc277a98f657843dd884e27b47e8fbad0ad66dcb49a88429b"
   }
  }
 },
 "nbformat": 4,
 "nbformat_minor": 2
}
