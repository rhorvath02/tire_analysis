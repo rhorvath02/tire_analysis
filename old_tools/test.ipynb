{
 "cells": [
  {
   "cell_type": "code",
   "execution_count": 1,
   "metadata": {},
   "outputs": [],
   "source": [
    "%matplotlib inline\n",
    "import matplotlib.pyplot as plt\n",
    "import numpy as np"
   ]
  },
  {
   "cell_type": "code",
   "execution_count": 2,
   "metadata": {},
   "outputs": [],
   "source": [
    "tire_matrix = {\"hoosier_LCO-16x6_10x6\":{\"CS\":[115,108,99,57,115,83],\"LOAD\":[250,200,150,50,250,100]}}"
   ]
  },
  {
   "cell_type": "code",
   "execution_count": 1,
   "metadata": {},
   "outputs": [
    {
     "ename": "NameError",
     "evalue": "name 'tire_matrix' is not defined",
     "output_type": "error",
     "traceback": [
      "\u001b[1;31m---------------------------------------------------------------------------\u001b[0m",
      "\u001b[1;31mNameError\u001b[0m                                 Traceback (most recent call last)",
      "\u001b[1;32mc:\\Users\\rober\\Documents\\GitHub\\tire_analysis\\analysis\\test.ipynb Cell 3\u001b[0m in \u001b[0;36m<cell line: 1>\u001b[1;34m()\u001b[0m\n\u001b[1;32m----> <a href='vscode-notebook-cell:/c%3A/Users/rober/Documents/GitHub/tire_analysis/analysis/test.ipynb#W2sZmlsZQ%3D%3D?line=0'>1</a>\u001b[0m \u001b[39mfor\u001b[39;00m name,tire \u001b[39min\u001b[39;00m tire_matrix\u001b[39m.\u001b[39mitems():\n\u001b[0;32m      <a href='vscode-notebook-cell:/c%3A/Users/rober/Documents/GitHub/tire_analysis/analysis/test.ipynb#W2sZmlsZQ%3D%3D?line=1'>2</a>\u001b[0m     \u001b[39mif\u001b[39;00m \u001b[39mlen\u001b[39m(tire[\u001b[39m\"\u001b[39m\u001b[39mCS\u001b[39m\u001b[39m\"\u001b[39m]) \u001b[39m>\u001b[39m \u001b[39m0\u001b[39m:\n\u001b[0;32m      <a href='vscode-notebook-cell:/c%3A/Users/rober/Documents/GitHub/tire_analysis/analysis/test.ipynb#W2sZmlsZQ%3D%3D?line=2'>3</a>\u001b[0m         plt\u001b[39m.\u001b[39mscatter(tire[\u001b[39m\"\u001b[39m\u001b[39mLOAD\u001b[39m\u001b[39m\"\u001b[39m], tire[\u001b[39m\"\u001b[39m\u001b[39mCS\u001b[39m\u001b[39m\"\u001b[39m], label \u001b[39m=\u001b[39m name)\n",
      "\u001b[1;31mNameError\u001b[0m: name 'tire_matrix' is not defined"
     ]
    }
   ],
   "source": [
    "for name,tire in tire_matrix.items():\n",
    "    if len(tire[\"CS\"]) > 0:\n",
    "        plt.scatter(tire[\"LOAD\"], tire[\"CS\"], label = name)\n",
    "plt.ylabel(\"Cornering Stiffness (lbf/deg)\")\n",
    "plt.grid()\n",
    "plt.xlabel(\"Normal Load (lbf)\")\n",
    "\n",
    "front = tire_matrix[\"hoosier_LCO-16x6_10x6\"][\"CS\"]\n",
    "rear = tire_matrix[\"hoosier_LCO-16x6_10x6\"][\"CS\"]\n",
    "results = [rear[i]/(front[i]+rear[i]) for i in range(len(front))]\n",
    "print(['{:.3f}'.format(x) for x in results])\n",
    "print(sum(results)/len(results))\n",
    "print(front)\n",
    "print(rear)"
   ]
  }
 ],
 "metadata": {
  "kernelspec": {
   "display_name": "Python 3.9.13 64-bit (windows store)",
   "language": "python",
   "name": "python3"
  },
  "language_info": {
   "codemirror_mode": {
    "name": "ipython",
    "version": 3
   },
   "file_extension": ".py",
   "mimetype": "text/x-python",
   "name": "python",
   "nbconvert_exporter": "python",
   "pygments_lexer": "ipython3",
   "version": "3.9.13"
  },
  "orig_nbformat": 4,
  "vscode": {
   "interpreter": {
    "hash": "48052aeadcf5257b9707a4845fb69de6a314b1cdced36a5637ac3ec4d3024794"
   }
  }
 },
 "nbformat": 4,
 "nbformat_minor": 2
}
