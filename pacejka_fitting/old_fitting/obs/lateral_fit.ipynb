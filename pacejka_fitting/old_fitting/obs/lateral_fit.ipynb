{
 "cells": [
  {
   "cell_type": "code",
   "execution_count": 6,
   "metadata": {},
   "outputs": [],
   "source": [
    "from lateral_force_functions import fit\n",
    "\n",
    "import scipy.io as sio\n",
    "%matplotlib inline\n",
    "import matplotlib.pyplot as plt\n",
    "import pandas as pd\n",
    "import numpy as np\n",
    "from scipy.optimize import curve_fit\n",
    "from mpl_toolkits.mplot3d import Axes3D"
   ]
  },
  {
   "cell_type": "code",
   "execution_count": 3,
   "metadata": {},
   "outputs": [],
   "source": [
    "tires = {\"hoosier_r25b_18x6_10x7\":{\"long\":None, \"lat\":None}}\n",
    "\n",
    "camber = 0 # default camber\n",
    "pressure = 12 * 6.89476 # default pressure\n",
    "velocity = 25 * 1.60934 # default velocity\n",
    "slip_angle = 0\n",
    "run_num = 1\n"
   ]
  },
  {
   "cell_type": "code",
   "execution_count": 4,
   "metadata": {},
   "outputs": [],
   "source": [
    "for name, tire in tires.items():\n",
    "    try:\n",
    "        tire[\"long\"] = pd.read_csv(f\"../tire_data/processed_data/braking_{name}.csv\")\n",
    "        \n",
    "    except:\n",
    "        print(\"Error getting long data for {0}\".format(name))\n",
    "\n",
    "    try:\n",
    "        tire[\"lat\"] = pd.read_csv(f\"../tire_data/processed_data/cornering_{name}.csv\")\n",
    "\n",
    "    except:\n",
    "        print(\"Error getting lateral data for {0}\".format(name))"
   ]
  },
  {
   "cell_type": "code",
   "execution_count": 11,
   "metadata": {},
   "outputs": [
    {
     "name": "stdout",
     "output_type": "stream",
     "text": [
      "FZ = -1123.55 SA = 0.481 IA = 0.001 FY = -276.74\n",
      "[ 4.06299751e+08  1.73148351e+10 -9.83379500e+12  4.46090555e+02\n",
      "  2.91846533e+03  1.51560981e-02 -2.03390781e+02  4.22541671e+04\n",
      "  1.42238867e-04 -9.12427651e-01  8.49891673e-01  3.05081881e-01\n",
      "  2.76653305e+00  4.38089389e-06 -2.41446138e-01 -2.98428245e+09\n",
      "  8.80000286e+00 -2.14855073e+02]\n",
      "-163.12665787016118\n",
      "-276.74\n"
     ]
    },
    {
     "name": "stderr",
     "output_type": "stream",
     "text": [
      "C:\\Users\\rober\\AppData\\Local\\Packages\\PythonSoftwareFoundation.Python.3.9_qbz5n2kfra8p0\\LocalCache\\local-packages\\Python39\\site-packages\\scipy\\optimize\\minpack.py:833: OptimizeWarning: Covariance of the parameters could not be estimated\n",
      "  warnings.warn('Covariance of the parameters could not be estimated',\n"
     ]
    }
   ],
   "source": [
    "df = tires[\"hoosier_r25b_18x6_10x7\"][\"lat\"]\n",
    "\n",
    "x_lst = df[\"FZ\"].tolist()\n",
    "y_lst = df[\"SA\"].tolist()\n",
    "z_lst = df[\"IA\"].tolist()\n",
    "\n",
    "w_lst = df[\"FY\"].tolist()\n",
    "\n",
    "# print(x_lst, y_lst, z_lst)\n",
    "\n",
    "a_vals = [1.4, 0, 1100, 1100, 10, 0, 0, -2, 0, 0, 0, 0, 0, 0, 0, 0, 0, 0]\n",
    "\n",
    "parameters, covariance = curve_fit(fit, [x_lst, y_lst, z_lst], w_lst, a_vals)\n",
    "\n",
    "num = 10\n",
    "\n",
    "test = [x[num] for x in [x_lst, y_lst, z_lst, w_lst]]\n",
    "\n",
    "predicted = fit([test[0], test[1], test[2]], *parameters)\n",
    "\n",
    "print(\"FZ =\", test[0], \"SA =\", test[1], \"IA =\", test[2], \"FY =\", test[3])\n",
    "\n",
    "# print(parameters)\n",
    "print(predicted)\n",
    "print(test[3])\n",
    "\n",
    "# model_x_data = np.linspace(min(x_lst), max(x_lst), 30)\n",
    "# model_y_data = np.linspace(min(y_lst), max(y_lst), 30)\n",
    "# model_z_data = np.linspace(min(z_lst), max(z_lst), 30)\n",
    "\n",
    "# X, Y, Z = np.meshgrid(model_x_data, model_y_data, model_z_data)\n",
    "\n",
    "# W = fit([X, Y, Z], *parameters)\n",
    "\n",
    "# X, Y, Z, W = X[0], Y[0], Z[0], W[0]\n",
    "\n",
    "# fig = plt.figure()\n",
    "\n",
    "# ax = Axes3D(fig)\n",
    "\n",
    "# ax.plot_surface(X, Y, W)\n",
    "\n",
    "# ax.plot(x_lst, y_lst, w_lst)\n",
    "\n",
    "# ax.set_xlabel(\"FZ (lbf)\")\n",
    "# ax.set_ylabel(\"SA (deg)\")\n",
    "# ax.set_zlabel(\"IA (deg)\")\n",
    "\n",
    "# plt.show()"
   ]
  }
 ],
 "metadata": {
  "kernelspec": {
   "display_name": "Python 3.9.13 64-bit (windows store)",
   "language": "python",
   "name": "python3"
  },
  "language_info": {
   "codemirror_mode": {
    "name": "ipython",
    "version": 3
   },
   "file_extension": ".py",
   "mimetype": "text/x-python",
   "name": "python",
   "nbconvert_exporter": "python",
   "pygments_lexer": "ipython3",
   "version": "3.9.13"
  },
  "orig_nbformat": 4,
  "vscode": {
   "interpreter": {
    "hash": "48052aeadcf5257b9707a4845fb69de6a314b1cdced36a5637ac3ec4d3024794"
   }
  }
 },
 "nbformat": 4,
 "nbformat_minor": 2
}
