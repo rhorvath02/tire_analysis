{
 "cells": [
  {
   "cell_type": "code",
   "execution_count": 3,
   "metadata": {},
   "outputs": [],
   "source": [
    "import scipy.io as sio\n",
    "%matplotlib inline\n",
    "import matplotlib.pyplot as plt\n",
    "import pandas as pd\n",
    "import numpy as np"
   ]
  },
  {
   "cell_type": "markdown",
   "metadata": {},
   "source": [
    "### Tires and Conditions"
   ]
  },
  {
   "cell_type": "code",
   "execution_count": 31,
   "metadata": {},
   "outputs": [],
   "source": [
    "tires = {\"hoosier_r25b_18x7-5_10x8\":{\"long\":None, \"lat\":None}}\n",
    "\n",
    "camber = 0 # default camber\n",
    "pressure = 12 * 6.89476 # default pressure\n",
    "velocity = 25 * 1.60934 # default velocity\n",
    "slip_angle = 0\n",
    "run_num = 1\n"
   ]
  },
  {
   "cell_type": "markdown",
   "metadata": {},
   "source": [
    "### Import Tire Data"
   ]
  },
  {
   "cell_type": "code",
   "execution_count": 32,
   "metadata": {},
   "outputs": [
    {
     "name": "stdout",
     "output_type": "stream",
     "text": [
      "      Unnamed: 0      ET      V       N     SA     IA      RL      RE      P  \\\n",
      "0              0  267.59  40.33  480.23  0.005 -0.037  21.587  22.283  83.08   \n",
      "1              1  267.60  40.34  479.95  0.048 -0.034  21.584  22.300  82.93   \n",
      "2              2  267.61  40.33  479.61  0.096 -0.024  21.580  22.311  83.08   \n",
      "3              3  267.62  40.33  479.47  0.144 -0.028  21.580  22.317  83.23   \n",
      "4              4  267.63  40.34  479.27  0.175 -0.034  21.582  22.332  83.49   \n",
      "...          ...     ...    ...     ...    ...    ...     ...     ...    ...   \n",
      "7666        7666  426.29  40.29  475.65 -0.161 -0.036  22.174  22.474  83.59   \n",
      "7667        7667  426.30  40.29  475.99 -0.124 -0.025  22.167  22.455  83.64   \n",
      "7668        7668  426.31  40.28  476.26 -0.083 -0.033  22.170  22.440  83.79   \n",
      "7669        7669  426.32  40.29  476.47 -0.038 -0.031  22.168  22.433  83.79   \n",
      "7670        7670  426.33  40.30  476.47 -0.007 -0.028  22.163  22.438  83.89   \n",
      "\n",
      "          FX  ...   TSTI   TSTC   TSTO  AMBTMP     SR         load  pressure  \\\n",
      "0     -85.22  ...  50.80  47.91  49.30   28.80 -0.031 -1112.055122  82.73712   \n",
      "1     -92.93  ...  50.81  47.91  49.33   28.82 -0.032 -1112.055122  82.73712   \n",
      "2     -96.33  ...  50.80  47.97  49.26   28.82 -0.033 -1112.055122  82.73712   \n",
      "3    -101.08  ...  50.78  47.88  49.39   28.80 -0.033 -1112.055122  82.73712   \n",
      "4    -108.84  ...  50.69  48.10  49.40   28.80 -0.034 -1112.055122  82.73712   \n",
      "...      ...  ...    ...    ...    ...     ...    ...          ...       ...   \n",
      "7666  -64.87  ...  54.02  53.85  56.53   28.86 -0.013  -444.822049  82.73712   \n",
      "7667  -66.15  ...  53.99  53.77  56.29   28.86 -0.013  -444.822049  82.73712   \n",
      "7668  -60.18  ...  53.91  53.66  56.29   28.87 -0.012  -444.822049  82.73712   \n",
      "7669  -53.53  ...  53.96  53.71  56.23   28.87 -0.012  -444.822049  82.73712   \n",
      "7670  -48.09  ...  53.99  53.68  56.29   28.86 -0.012  -444.822049  82.73712   \n",
      "\n",
      "      velocity  slip  camber  \n",
      "0      40.2335     0       0  \n",
      "1      40.2335     0       0  \n",
      "2      40.2335     0       0  \n",
      "3      40.2335     0       0  \n",
      "4      40.2335     0       0  \n",
      "...        ...   ...     ...  \n",
      "7666   40.2335     0       0  \n",
      "7667   40.2335     0       0  \n",
      "7668   40.2335     0       0  \n",
      "7669   40.2335     0       0  \n",
      "7670   40.2335     0       0  \n",
      "\n",
      "[7671 rows x 27 columns]\n"
     ]
    }
   ],
   "source": [
    "for name, tire in tires.items():\n",
    "    try:\n",
    "        df = pd.read_csv(f\"../tire_data/processed_data/braking_{name}.csv\")\n",
    "        tire[\"long\"] = df[(df[\"pressure\"] == pressure) & (df[\"velocity\"] == velocity) & (df[\"camber\"] == camber) & (df[\"slip\"] == slip_angle)]\n",
    "        # print(tire[\"long\"])\n",
    "        \n",
    "    except:\n",
    "        print(\"Error getting long data for {0}\".format(name))\n",
    "\n",
    "    try:\n",
    "        df = pd.read_csv(f\"../tire_data/processed_data/cornering_{name}.csv\")\n",
    "        tire[\"lat\"] = df[((df[\"velocity\"] == velocity) & (df[\"pressure\"] == pressure) & (df[\"camber\"] == camber))]\n",
    "        # print(tire[\"lat\"])\n",
    "\n",
    "    except:\n",
    "        print(\"Error getting lateral data for {0}\".format(name))"
   ]
  },
  {
   "cell_type": "markdown",
   "metadata": {},
   "source": [
    "### Verify Data (Make Sure this Looks as Expected)"
   ]
  },
  {
   "cell_type": "code",
   "execution_count": 22,
   "metadata": {},
   "outputs": [
    {
     "ename": "TypeError",
     "evalue": "expected non-empty vector for x",
     "output_type": "error",
     "traceback": [
      "\u001b[1;31m---------------------------------------------------------------------------\u001b[0m",
      "\u001b[1;31mTypeError\u001b[0m                                 Traceback (most recent call last)",
      "\u001b[1;32mc:\\Users\\rober\\Documents\\GitHub\\tire_analysis\\analysis\\analysis.ipynb Cell 7\u001b[0m in \u001b[0;36m<cell line: 6>\u001b[1;34m()\u001b[0m\n\u001b[0;32m      <a href='vscode-notebook-cell:/c%3A/Users/rober/Documents/GitHub/tire_analysis/analysis/analysis.ipynb#W6sZmlsZQ%3D%3D?line=1'>2</a>\u001b[0m temp_df \u001b[39m=\u001b[39m df[(df[\u001b[39m\"\u001b[39m\u001b[39mload\u001b[39m\u001b[39m\"\u001b[39m] \u001b[39m==\u001b[39m \u001b[39m-\u001b[39m\u001b[39m200\u001b[39m \u001b[39m/\u001b[39m \u001b[39m0.224809\u001b[39m)]\n\u001b[0;32m      <a href='vscode-notebook-cell:/c%3A/Users/rober/Documents/GitHub/tire_analysis/analysis/analysis.ipynb#W6sZmlsZQ%3D%3D?line=3'>4</a>\u001b[0m \u001b[39m# print(temp_df)\u001b[39;00m\n\u001b[1;32m----> <a href='vscode-notebook-cell:/c%3A/Users/rober/Documents/GitHub/tire_analysis/analysis/analysis.ipynb#W6sZmlsZQ%3D%3D?line=5'>6</a>\u001b[0m curve \u001b[39m=\u001b[39m np\u001b[39m.\u001b[39mpoly1d(np\u001b[39m.\u001b[39;49mpolyfit(temp_df[\u001b[39m\"\u001b[39;49m\u001b[39mSA\u001b[39;49m\u001b[39m\"\u001b[39;49m], temp_df[\u001b[39m\"\u001b[39;49m\u001b[39mMZ\u001b[39;49m\u001b[39m\"\u001b[39;49m], \u001b[39m10\u001b[39;49m))\n\u001b[0;32m      <a href='vscode-notebook-cell:/c%3A/Users/rober/Documents/GitHub/tire_analysis/analysis/analysis.ipynb#W6sZmlsZQ%3D%3D?line=7'>8</a>\u001b[0m polyline \u001b[39m=\u001b[39m np\u001b[39m.\u001b[39mlinspace(temp_df[\u001b[39m\"\u001b[39m\u001b[39mSA\u001b[39m\u001b[39m\"\u001b[39m]\u001b[39m.\u001b[39mmin(), temp_df[\u001b[39m\"\u001b[39m\u001b[39mSA\u001b[39m\u001b[39m\"\u001b[39m]\u001b[39m.\u001b[39mmax(), \u001b[39m50\u001b[39m)\n\u001b[0;32m     <a href='vscode-notebook-cell:/c%3A/Users/rober/Documents/GitHub/tire_analysis/analysis/analysis.ipynb#W6sZmlsZQ%3D%3D?line=9'>10</a>\u001b[0m plt\u001b[39m.\u001b[39mplot(polyline, curve(polyline))\n",
      "File \u001b[1;32m<__array_function__ internals>:5\u001b[0m, in \u001b[0;36mpolyfit\u001b[1;34m(*args, **kwargs)\u001b[0m\n",
      "File \u001b[1;32m~\\AppData\\Local\\Packages\\PythonSoftwareFoundation.Python.3.9_qbz5n2kfra8p0\\LocalCache\\local-packages\\Python39\\site-packages\\numpy\\lib\\polynomial.py:630\u001b[0m, in \u001b[0;36mpolyfit\u001b[1;34m(x, y, deg, rcond, full, w, cov)\u001b[0m\n\u001b[0;32m    628\u001b[0m     \u001b[39mraise\u001b[39;00m \u001b[39mTypeError\u001b[39;00m(\u001b[39m\"\u001b[39m\u001b[39mexpected 1D vector for x\u001b[39m\u001b[39m\"\u001b[39m)\n\u001b[0;32m    629\u001b[0m \u001b[39mif\u001b[39;00m x\u001b[39m.\u001b[39msize \u001b[39m==\u001b[39m \u001b[39m0\u001b[39m:\n\u001b[1;32m--> 630\u001b[0m     \u001b[39mraise\u001b[39;00m \u001b[39mTypeError\u001b[39;00m(\u001b[39m\"\u001b[39m\u001b[39mexpected non-empty vector for x\u001b[39m\u001b[39m\"\u001b[39m)\n\u001b[0;32m    631\u001b[0m \u001b[39mif\u001b[39;00m y\u001b[39m.\u001b[39mndim \u001b[39m<\u001b[39m \u001b[39m1\u001b[39m \u001b[39mor\u001b[39;00m y\u001b[39m.\u001b[39mndim \u001b[39m>\u001b[39m \u001b[39m2\u001b[39m:\n\u001b[0;32m    632\u001b[0m     \u001b[39mraise\u001b[39;00m \u001b[39mTypeError\u001b[39;00m(\u001b[39m\"\u001b[39m\u001b[39mexpected 1D or 2D array for y\u001b[39m\u001b[39m\"\u001b[39m)\n",
      "\u001b[1;31mTypeError\u001b[0m: expected non-empty vector for x"
     ]
    }
   ],
   "source": [
    "df = tires[\"hoosier_r25b_18x7-5_10x8\"][\"lat\"]\n",
    "temp_df = df[(df[\"load\"] == -200 / 0.224809)]\n",
    "\n",
    "# print(temp_df)\n",
    "\n",
    "curve = np.poly1d(np.polyfit(temp_df[\"SA\"], temp_df[\"MZ\"], 10))\n",
    "\n",
    "polyline = np.linspace(temp_df[\"SA\"].min(), temp_df[\"SA\"].max(), 50)\n",
    "\n",
    "plt.plot(polyline, curve(polyline))\n",
    "plt.scatter(temp_df[\"SA\"], temp_df[\"MZ\"], s=1)\n",
    "# plt.plot(temp_df[\"SA\"], temp_df[\"MZ\"])\n",
    "plt.ylabel(\"Aligning Moment\")\n",
    "plt.xlabel(\"Slip Ratio (%)\")"
   ]
  },
  {
   "cell_type": "code",
   "execution_count": 11,
   "metadata": {},
   "outputs": [
    {
     "name": "stderr",
     "output_type": "stream",
     "text": [
      "No handles with labels found to put in legend.\n"
     ]
    },
    {
     "data": {
      "image/png": "[encoded data removed]",
      "text/plain": [
       "<Figure size 720x432 with 1 Axes>"
      ]
     },
     "metadata": {
      "needs_background": "light"
     },
     "output_type": "display_data"
    }
   ],
   "source": [
    "fig = plt.figure(figsize=(10,6))\n",
    "count = 0\n",
    "for name, tire in tires.items():\n",
    "    if tire[\"lat\"] is not None:\n",
    "        count += 1\n",
    "        fig.add_subplot(1, 2, count)\n",
    "        for load in tire[\"lat\"][\"load\"].unique():\n",
    "            temp_df = tire[\"lat\"][tire[\"lat\"][\"load\"] == load]\n",
    "\n",
    "            curve = np.poly1d(np.polyfit(temp_df[\"SA\"], temp_df[\"MZ\"], 10))\n",
    "\n",
    "            polyline = np.linspace(temp_df[\"SA\"].min(), temp_df[\"SA\"].max(), 50)\n",
    "\n",
    "            plt.plot(polyline, curve(polyline))\n",
    "\n",
    "            # plt.scatter(temp_df[\"SA\"], temp_df[\"MZ\"], label = load, s=1)\n",
    "\n",
    "        plt.legend()\n",
    "        plt.ylabel(\"Aligning Moment (Nm)\")\n",
    "        plt.xlabel(\"Slip Angle (deg)\")\n",
    "        plt.grid(True)\n",
    "plt.show()"
   ]
  }
 ],
 "metadata": {
  "kernelspec": {
   "display_name": "Python 3.9.13 64-bit (windows store)",
   "language": "python",
   "name": "python3"
  },
  "language_info": {
   "codemirror_mode": {
    "name": "ipython",
    "version": 3
   },
   "file_extension": ".py",
   "mimetype": "text/x-python",
   "name": "python",
   "nbconvert_exporter": "python",
   "pygments_lexer": "ipython3",
   "version": "3.9.13"
  },
  "orig_nbformat": 4,
  "vscode": {
   "interpreter": {
    "hash": "48052aeadcf5257b9707a4845fb69de6a314b1cdced36a5637ac3ec4d3024794"
   }
  }
 },
 "nbformat": 4,
 "nbformat_minor": 2
}
