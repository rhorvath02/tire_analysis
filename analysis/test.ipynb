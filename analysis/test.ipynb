{
 "cells": [
  {
   "cell_type": "code",
   "execution_count": 1,
   "metadata": {},
   "outputs": [],
   "source": [
    "%matplotlib inline\n",
    "import matplotlib.pyplot as plt\n",
    "import numpy as np"
   ]
  },
  {
   "cell_type": "code",
   "execution_count": 2,
   "metadata": {},
   "outputs": [],
   "source": [
    "tire_matrix = {\"hoosier_LCO-16x6_10x6\":{\"CS\":[115,108,99,57,115,83],\"LOAD\":[250,200,150,50,250,100]}}"
   ]
  },
  {
   "cell_type": "code",
   "execution_count": 4,
   "metadata": {},
   "outputs": [
    {
     "name": "stdout",
     "output_type": "stream",
     "text": [
      "['0.500', '0.500', '0.500', '0.500', '0.500', '0.500']\n",
      "0.5\n",
      "[115, 108, 99, 57, 115, 83]\n",
      "[115, 108, 99, 57, 115, 83]\n"
     ]
    },
    {
     "data": {
      "image/png": "[encoded data removed]",
      "text/plain": [
       "<Figure size 432x288 with 1 Axes>"
      ]
     },
     "metadata": {
      "needs_background": "light"
     },
     "output_type": "display_data"
    }
   ],
   "source": [
    "for name,tire in tire_matrix.items():\n",
    "    if len(tire[\"CS\"]) > 0:\n",
    "        plt.scatter(tire[\"LOAD\"], tire[\"CS\"], label = name)\n",
    "plt.ylabel(\"Cornering Stiffness (lbf/deg)\")\n",
    "plt.grid()\n",
    "plt.xlabel(\"Normal Load (lbf)\")\n",
    "\n",
    "front = tire_matrix[\"hoosier_LCO-16x6_10x6\"][\"CS\"]\n",
    "rear = tire_matrix[\"hoosier_LCO-16x6_10x6\"][\"CS\"]\n",
    "results = [rear[i]/(front[i]+rear[i]) for i in range(len(front))]\n",
    "print(['{:.3f}'.format(x) for x in results])\n",
    "print(sum(results)/len(results))\n",
    "print(front)\n",
    "print(rear)"
   ]
  }
 ],
 "metadata": {
  "kernelspec": {
   "display_name": "Python 3.9.13 64-bit (windows store)",
   "language": "python",
   "name": "python3"
  },
  "language_info": {
   "codemirror_mode": {
    "name": "ipython",
    "version": 3
   },
   "file_extension": ".py",
   "mimetype": "text/x-python",
   "name": "python",
   "nbconvert_exporter": "python",
   "pygments_lexer": "ipython3",
   "version": "3.9.13"
  },
  "orig_nbformat": 4,
  "vscode": {
   "interpreter": {
    "hash": "48052aeadcf5257b9707a4845fb69de6a314b1cdced36a5637ac3ec4d3024794"
   }
  }
 },
 "nbformat": 4,
 "nbformat_minor": 2
}
