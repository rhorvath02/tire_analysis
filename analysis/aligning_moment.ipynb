{
 "cells": [
  {
   "cell_type": "markdown",
   "metadata": {},
   "source": [
    "I set up the data to give continuous normal loads. Instead of classifying by the discrete normal loads (the ones specified), I've included all values for a continuous spectrum."
   ]
  },
  {
   "cell_type": "code",
   "execution_count": 20,
   "metadata": {},
   "outputs": [],
   "source": [
    "import scipy.io as sio\n",
    "%matplotlib inline\n",
    "import matplotlib.pyplot as plt\n",
    "import pandas as pd\n",
    "import numpy as np\n",
    "from scipy.optimize import curve_fit\n",
    "from mpl_toolkits.mplot3d import Axes3D"
   ]
  },
  {
   "cell_type": "code",
   "execution_count": 21,
   "metadata": {},
   "outputs": [],
   "source": [
    "tires = {\"hoosier_r25b_18x6_10x7\":{\"long\":None, \"lat\":None}}\n",
    "\n",
    "camber = 0 # default camber\n",
    "pressure = 12 * 6.89476 # default pressure\n",
    "velocity = 25 * 1.60934 # default velocity\n",
    "slip_angle = 0\n",
    "run_num = 1\n"
   ]
  },
  {
   "cell_type": "code",
   "execution_count": 22,
   "metadata": {},
   "outputs": [],
   "source": [
    "for name, tire in tires.items():\n",
    "    try:\n",
    "        df = pd.read_csv(f\"../tire_data/processed_data/braking_{name}.csv\")\n",
    "        tire[\"long\"] = df[(df[\"pressure\"] == pressure) & (df[\"velocity\"] == velocity) & (df[\"camber\"] == camber) & (df[\"slip\"] == slip_angle)]\n",
    "        \n",
    "    except:\n",
    "        print(\"Error getting long data for {0}\".format(name))\n",
    "\n",
    "    try:\n",
    "        df = pd.read_csv(f\"../tire_data/processed_data/cornering_{name}.csv\")\n",
    "        tire[\"lat\"] = df[((df[\"velocity\"] == velocity) & (df[\"pressure\"] == pressure) & (df[\"camber\"] == camber))]\n",
    "\n",
    "    except:\n",
    "        print(\"Error getting lateral data for {0}\".format(name))"
   ]
  },
  {
   "cell_type": "code",
   "execution_count": 36,
   "metadata": {},
   "outputs": [
    {
     "ename": "IndexError",
     "evalue": "index 1 is out of bounds for axis 0 with size 1",
     "output_type": "error",
     "traceback": [
      "\u001b[1;31m---------------------------------------------------------------------------\u001b[0m",
      "\u001b[1;31mIndexError\u001b[0m                                Traceback (most recent call last)",
      "\u001b[1;32mc:\\Users\\rober\\Documents\\GitHub\\tire_analysis\\analysis\\aligning_moment.ipynb Cell 5\u001b[0m in \u001b[0;36m<cell line: 12>\u001b[1;34m()\u001b[0m\n\u001b[0;32m      <a href='vscode-notebook-cell:/c%3A/Users/rober/Documents/GitHub/tire_analysis/analysis/aligning_moment.ipynb#W5sZmlsZQ%3D%3D?line=8'>9</a>\u001b[0m     y \u001b[39m=\u001b[39m data[\u001b[39m1\u001b[39m]\n\u001b[0;32m     <a href='vscode-notebook-cell:/c%3A/Users/rober/Documents/GitHub/tire_analysis/analysis/aligning_moment.ipynb#W5sZmlsZQ%3D%3D?line=9'>10</a>\u001b[0m     \u001b[39mreturn\u001b[39;00m a \u001b[39m*\u001b[39m (x\u001b[39m*\u001b[39m\u001b[39m*\u001b[39mb) \u001b[39m*\u001b[39m (y\u001b[39m*\u001b[39m\u001b[39m*\u001b[39mc)\n\u001b[1;32m---> <a href='vscode-notebook-cell:/c%3A/Users/rober/Documents/GitHub/tire_analysis/analysis/aligning_moment.ipynb#W5sZmlsZQ%3D%3D?line=11'>12</a>\u001b[0m parameters, covariance \u001b[39m=\u001b[39m curve_fit(function, [raw_points[\u001b[39m0\u001b[39;49m] \u001b[39m+\u001b[39;49m raw_points[\u001b[39m1\u001b[39;49m]], raw_points[\u001b[39m2\u001b[39;49m])\n\u001b[0;32m     <a href='vscode-notebook-cell:/c%3A/Users/rober/Documents/GitHub/tire_analysis/analysis/aligning_moment.ipynb#W5sZmlsZQ%3D%3D?line=14'>15</a>\u001b[0m model_x_data \u001b[39m=\u001b[39m np\u001b[39m.\u001b[39mlinspace(\u001b[39mmin\u001b[39m(raw_points[\u001b[39m0\u001b[39m]), \u001b[39mmax\u001b[39m(raw_points[\u001b[39m0\u001b[39m]), \u001b[39m30\u001b[39m)\n\u001b[0;32m     <a href='vscode-notebook-cell:/c%3A/Users/rober/Documents/GitHub/tire_analysis/analysis/aligning_moment.ipynb#W5sZmlsZQ%3D%3D?line=15'>16</a>\u001b[0m model_y_data \u001b[39m=\u001b[39m np\u001b[39m.\u001b[39mlinspace(\u001b[39mmin\u001b[39m(raw_points[\u001b[39m1\u001b[39m]), \u001b[39mmax\u001b[39m(raw_points[\u001b[39m1\u001b[39m]), \u001b[39m30\u001b[39m)\n",
      "File \u001b[1;32m~\\AppData\\Local\\Packages\\PythonSoftwareFoundation.Python.3.9_qbz5n2kfra8p0\\LocalCache\\local-packages\\Python39\\site-packages\\scipy\\optimize\\minpack.py:789\u001b[0m, in \u001b[0;36mcurve_fit\u001b[1;34m(f, xdata, ydata, p0, sigma, absolute_sigma, check_finite, bounds, method, jac, **kwargs)\u001b[0m\n\u001b[0;32m    787\u001b[0m \u001b[39m# Remove full_output from kwargs, otherwise we're passing it in twice.\u001b[39;00m\n\u001b[0;32m    788\u001b[0m return_full \u001b[39m=\u001b[39m kwargs\u001b[39m.\u001b[39mpop(\u001b[39m'\u001b[39m\u001b[39mfull_output\u001b[39m\u001b[39m'\u001b[39m, \u001b[39mFalse\u001b[39;00m)\n\u001b[1;32m--> 789\u001b[0m res \u001b[39m=\u001b[39m leastsq(func, p0, Dfun\u001b[39m=\u001b[39mjac, full_output\u001b[39m=\u001b[39m\u001b[39m1\u001b[39m, \u001b[39m*\u001b[39m\u001b[39m*\u001b[39mkwargs)\n\u001b[0;32m    790\u001b[0m popt, pcov, infodict, errmsg, ier \u001b[39m=\u001b[39m res\n\u001b[0;32m    791\u001b[0m ysize \u001b[39m=\u001b[39m \u001b[39mlen\u001b[39m(infodict[\u001b[39m'\u001b[39m\u001b[39mfvec\u001b[39m\u001b[39m'\u001b[39m])\n",
      "File \u001b[1;32m~\\AppData\\Local\\Packages\\PythonSoftwareFoundation.Python.3.9_qbz5n2kfra8p0\\LocalCache\\local-packages\\Python39\\site-packages\\scipy\\optimize\\minpack.py:410\u001b[0m, in \u001b[0;36mleastsq\u001b[1;34m(func, x0, args, Dfun, full_output, col_deriv, ftol, xtol, gtol, maxfev, epsfcn, factor, diag)\u001b[0m\n\u001b[0;32m    408\u001b[0m \u001b[39mif\u001b[39;00m \u001b[39mnot\u001b[39;00m \u001b[39misinstance\u001b[39m(args, \u001b[39mtuple\u001b[39m):\n\u001b[0;32m    409\u001b[0m     args \u001b[39m=\u001b[39m (args,)\n\u001b[1;32m--> 410\u001b[0m shape, dtype \u001b[39m=\u001b[39m _check_func(\u001b[39m'\u001b[39;49m\u001b[39mleastsq\u001b[39;49m\u001b[39m'\u001b[39;49m, \u001b[39m'\u001b[39;49m\u001b[39mfunc\u001b[39;49m\u001b[39m'\u001b[39;49m, func, x0, args, n)\n\u001b[0;32m    411\u001b[0m m \u001b[39m=\u001b[39m shape[\u001b[39m0\u001b[39m]\n\u001b[0;32m    413\u001b[0m \u001b[39mif\u001b[39;00m n \u001b[39m>\u001b[39m m:\n",
      "File \u001b[1;32m~\\AppData\\Local\\Packages\\PythonSoftwareFoundation.Python.3.9_qbz5n2kfra8p0\\LocalCache\\local-packages\\Python39\\site-packages\\scipy\\optimize\\minpack.py:24\u001b[0m, in \u001b[0;36m_check_func\u001b[1;34m(checker, argname, thefunc, x0, args, numinputs, output_shape)\u001b[0m\n\u001b[0;32m     22\u001b[0m \u001b[39mdef\u001b[39;00m \u001b[39m_check_func\u001b[39m(checker, argname, thefunc, x0, args, numinputs,\n\u001b[0;32m     23\u001b[0m                 output_shape\u001b[39m=\u001b[39m\u001b[39mNone\u001b[39;00m):\n\u001b[1;32m---> 24\u001b[0m     res \u001b[39m=\u001b[39m atleast_1d(thefunc(\u001b[39m*\u001b[39;49m((x0[:numinputs],) \u001b[39m+\u001b[39;49m args)))\n\u001b[0;32m     25\u001b[0m     \u001b[39mif\u001b[39;00m (output_shape \u001b[39mis\u001b[39;00m \u001b[39mnot\u001b[39;00m \u001b[39mNone\u001b[39;00m) \u001b[39mand\u001b[39;00m (shape(res) \u001b[39m!=\u001b[39m output_shape):\n\u001b[0;32m     26\u001b[0m         \u001b[39mif\u001b[39;00m (output_shape[\u001b[39m0\u001b[39m] \u001b[39m!=\u001b[39m \u001b[39m1\u001b[39m):\n",
      "File \u001b[1;32m~\\AppData\\Local\\Packages\\PythonSoftwareFoundation.Python.3.9_qbz5n2kfra8p0\\LocalCache\\local-packages\\Python39\\site-packages\\scipy\\optimize\\minpack.py:485\u001b[0m, in \u001b[0;36m_wrap_func.<locals>.func_wrapped\u001b[1;34m(params)\u001b[0m\n\u001b[0;32m    484\u001b[0m \u001b[39mdef\u001b[39;00m \u001b[39mfunc_wrapped\u001b[39m(params):\n\u001b[1;32m--> 485\u001b[0m     \u001b[39mreturn\u001b[39;00m func(xdata, \u001b[39m*\u001b[39;49mparams) \u001b[39m-\u001b[39m ydata\n",
      "\u001b[1;32mc:\\Users\\rober\\Documents\\GitHub\\tire_analysis\\analysis\\aligning_moment.ipynb Cell 5\u001b[0m in \u001b[0;36mfunction\u001b[1;34m(data, a, b, c)\u001b[0m\n\u001b[0;32m      <a href='vscode-notebook-cell:/c%3A/Users/rober/Documents/GitHub/tire_analysis/analysis/aligning_moment.ipynb#W5sZmlsZQ%3D%3D?line=6'>7</a>\u001b[0m \u001b[39mdef\u001b[39;00m \u001b[39mfunction\u001b[39m(data, a, b, c):\n\u001b[0;32m      <a href='vscode-notebook-cell:/c%3A/Users/rober/Documents/GitHub/tire_analysis/analysis/aligning_moment.ipynb#W5sZmlsZQ%3D%3D?line=7'>8</a>\u001b[0m     x \u001b[39m=\u001b[39m data[\u001b[39m0\u001b[39m]\n\u001b[1;32m----> <a href='vscode-notebook-cell:/c%3A/Users/rober/Documents/GitHub/tire_analysis/analysis/aligning_moment.ipynb#W5sZmlsZQ%3D%3D?line=8'>9</a>\u001b[0m     y \u001b[39m=\u001b[39m data[\u001b[39m1\u001b[39;49m]\n\u001b[0;32m     <a href='vscode-notebook-cell:/c%3A/Users/rober/Documents/GitHub/tire_analysis/analysis/aligning_moment.ipynb#W5sZmlsZQ%3D%3D?line=9'>10</a>\u001b[0m     \u001b[39mreturn\u001b[39;00m a \u001b[39m*\u001b[39m (x\u001b[39m*\u001b[39m\u001b[39m*\u001b[39mb) \u001b[39m*\u001b[39m (y\u001b[39m*\u001b[39m\u001b[39m*\u001b[39mc)\n",
      "\u001b[1;31mIndexError\u001b[0m: index 1 is out of bounds for axis 0 with size 1"
     ]
    }
   ],
   "source": [
    "df = tires[\"hoosier_r25b_18x6_10x7\"][\"lat\"]\n",
    "\n",
    "raw_points = [df[\"FZ\"].unique().tolist(), df[\"SA\"].tolist(), df[\"MZ\"].tolist()]\n",
    "\n",
    "temp_df = df[(df[\"load\"] == -93 / 0.224809)]\n",
    "\n",
    "def function(data, a, b, c):\n",
    "    x = data[0]\n",
    "    y = data[1]\n",
    "    return a * (x**b) * (y**c)\n",
    "\n",
    "parameters, covariance = curve_fit(function, [raw_points[0] + raw_points[1]], raw_points[2])\n",
    "\n",
    "\n",
    "model_x_data = np.linspace(min(raw_points[0]), max(raw_points[0]), 30)\n",
    "model_y_data = np.linspace(min(raw_points[1]), max(raw_points[1]), 30)\n",
    "# create coordinate arrays for vectorized evaluations\n",
    "X, Y = np.meshgrid(model_x_data, model_y_data)\n",
    "# calculate Z coordinate array\n",
    "Z = function(np.array([X, Y]), *parameters)\n",
    "\n",
    "# setup figure object\n",
    "fig = plt.figure()\n",
    "# setup 3d object\n",
    "ax = Axes3D(fig)\n",
    "# plot surface\n",
    "ax.plot_surface(X, Y, Z)\n",
    "# plot input data\n",
    "ax.scatter([raw_points[0]], raw_points[1], raw_points[2], color='red')\n",
    "# set plot descriptions\n",
    "ax.set_xlabel('X data')\n",
    "ax.set_ylabel('Y data')\n",
    "ax.set_zlabel('Z data')\n",
    "\n",
    "plt.show()\n",
    "\n",
    "\n",
    "\n",
    "\n",
    "curve = np.poly1d(np.polyfit(temp_df[\"SA\"], temp_df[\"MZ\"], 10))\n",
    "\n",
    "polyline = np.linspace(temp_df[\"SA\"].min(), temp_df[\"SA\"].max(), 50)\n",
    "\n",
    "plt.plot(polyline, curve(polyline))\n",
    "plt.scatter(temp_df[\"SA\"], temp_df[\"MZ\"], s=1)\n",
    "# plt.plot(temp_df[\"SA\"], temp_df[\"MZ\"])\n",
    "plt.ylabel(\"Aligning Moment\")\n",
    "plt.xlabel(\"Slip Ratio (%)\")"
   ]
  }
 ],
 "metadata": {
  "kernelspec": {
   "display_name": "Python 3.9.13 64-bit (windows store)",
   "language": "python",
   "name": "python3"
  },
  "language_info": {
   "codemirror_mode": {
    "name": "ipython",
    "version": 3
   },
   "file_extension": ".py",
   "mimetype": "text/x-python",
   "name": "python",
   "nbconvert_exporter": "python",
   "pygments_lexer": "ipython3",
   "version": "3.9.13"
  },
  "orig_nbformat": 4,
  "vscode": {
   "interpreter": {
    "hash": "48052aeadcf5257b9707a4845fb69de6a314b1cdced36a5637ac3ec4d3024794"
   }
  }
 },
 "nbformat": 4,
 "nbformat_minor": 2
}
