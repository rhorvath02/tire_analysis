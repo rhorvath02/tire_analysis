{
 "cells": [
  {
   "cell_type": "code",
   "execution_count": 74,
   "metadata": {},
   "outputs": [],
   "source": [
    "import scipy.io as sio\n",
    "%matplotlib inline\n",
    "import matplotlib.pyplot as plt\n",
    "import pandas as pd\n",
    "import numpy as np\n",
    "from scipy.optimize import curve_fit\n",
    "from mpl_toolkits.mplot3d import Axes3D"
   ]
  },
  {
   "cell_type": "markdown",
   "metadata": {},
   "source": [
    "### Pacejka Magic Formula"
   ]
  },
  {
   "cell_type": "code",
   "execution_count": 79,
   "metadata": {},
   "outputs": [],
   "source": [
    "def fit(data, b0, b1, b2, b3, b4, b5, b6, b7, b8, b9, b10, b11, b12, b13):\n",
    "    FZ = data[0]\n",
    "    SR = data[1]\n",
    "\n",
    "    C = b0\n",
    "    D = FZ * (b1 * FZ + b2)\n",
    "    \n",
    "    BCD = (b3 * FZ**2 + b4 * FZ) * np.exp(-1 * b5 * FZ)\n",
    "    B = BCD / (C * D)\n",
    "    H = b9 * FZ + b10\n",
    "\n",
    "    E = (b6 * FZ**2 + b7 * FZ + b8) * (1 - b13 * np.sign(SR + H))\n",
    "\n",
    "    V = b11 * FZ + b12\n",
    "    Bx1 = B * (SR + H)\n",
    "\n",
    "    return D * np.sin(C * np.arctan(Bx1 - E * (Bx1 - np.arctan(Bx1)))) + V\n",
    "\n",
    "# def fit(data, B, C, D, E):\n",
    "#     FZ = data[0]\n",
    "#     SR = data[1]\n",
    "\n",
    "#     return FZ * D * np.sin(C * np.arctan(B * SR - E * (B * SR - np.arctan(B * SR))))"
   ]
  },
  {
   "cell_type": "markdown",
   "metadata": {},
   "source": [
    "### Desired Parameters for Filtering"
   ]
  },
  {
   "cell_type": "code",
   "execution_count": 76,
   "metadata": {},
   "outputs": [],
   "source": [
    "tires = {\"hoosier_r25b_18x7-5_10x8\":{\"long\":None, \"lat\":None}}\n",
    "\n",
    "camber = 0 # default camber\n",
    "pressure = 12 * 6.89476 # default pressure\n",
    "velocity = 25 * 1.60934 # default velocity\n",
    "slip_angle = 0\n",
    "run_num = 1\n"
   ]
  },
  {
   "cell_type": "markdown",
   "metadata": {},
   "source": [
    "### Import and Filter Tire Data"
   ]
  },
  {
   "cell_type": "code",
   "execution_count": 77,
   "metadata": {},
   "outputs": [],
   "source": [
    "for name, tire in tires.items():\n",
    "    try:\n",
    "        df = pd.read_csv(f\"../tire_data/processed_data/braking_{name}.csv\")\n",
    "        tire[\"long\"] = df[(df[\"pressure\"] == pressure) & (df[\"velocity\"] == velocity)]\n",
    "        # print(tire[\"long\"])\n",
    "        \n",
    "    except:\n",
    "        print(\"Error getting long data for {0}\".format(name))\n",
    "\n",
    "    try:\n",
    "        df = pd.read_csv(f\"../tire_data/processed_data/cornering_{name}.csv\")\n",
    "        tire[\"lat\"] = df[(df[\"velocity\"] == velocity) & (df[\"pressure\"] == pressure)]\n",
    "        # print(tire[\"lat\"])\n",
    "\n",
    "    except:\n",
    "        print(\"Error getting lateral data for {0}\".format(name))"
   ]
  },
  {
   "cell_type": "markdown",
   "metadata": {},
   "source": [
    "### Pacejka Fit Solver"
   ]
  },
  {
   "cell_type": "code",
   "execution_count": 80,
   "metadata": {},
   "outputs": [
    {
     "name": "stdout",
     "output_type": "stream",
     "text": [
      "Coefficients: [-6.64868304e+01 -8.18187981e+01  1.64822184e+05  2.78422198e-08\n",
      " -2.25527212e+01 -1.65645333e-04  7.41143702e-05  1.09078902e-01\n",
      " -7.26030561e+01 -1.44666891e-05 -1.17593566e-01 -2.45338617e+00\n",
      "  4.34140763e+00 -5.68522253e+01]\n"
     ]
    }
   ],
   "source": [
    "df = tires[\"hoosier_r25b_18x7-5_10x8\"][\"long\"]\n",
    "\n",
    "x_lst = df[\"FZ\"].tolist()\n",
    "y_lst = df[\"SR\"].tolist()\n",
    "\n",
    "z_lst = df[\"FX\"].tolist()\n",
    "\n",
    "a_vals = [1.65, 0, 1100, 0, 300, 0, 0, 0, -2, 0, 0, 0, 0, 0]\n",
    "\n",
    "parameters, covariance = curve_fit(fit, [x_lst, y_lst], z_lst, a_vals, maxfev = 10000)\n",
    "\n",
    "# a_vals = [10, 1.9, 1, 0.97]\n",
    "\n",
    "# parameters, covariance = curve_fit(fit, [x_lst, y_lst], z_lst, a_vals, maxfev = 10000)\n",
    "\n",
    "print(\"Coefficients:\", parameters)\n"
   ]
  },
  {
   "cell_type": "markdown",
   "metadata": {},
   "source": [
    "### Plotting"
   ]
  },
  {
   "cell_type": "code",
   "execution_count": 85,
   "metadata": {},
   "outputs": [
    {
     "ename": "ValueError",
     "evalue": "Argument Z must be 2-dimensional.",
     "output_type": "error",
     "traceback": [
      "\u001b[1;31m---------------------------------------------------------------------------\u001b[0m",
      "\u001b[1;31mValueError\u001b[0m                                Traceback (most recent call last)",
      "\u001b[1;32mc:\\Users\\rober\\Documents\\GitHub\\tire_analysis\\fits\\rear_long.ipynb Cell 11\u001b[0m in \u001b[0;36m<cell line: 14>\u001b[1;34m()\u001b[0m\n\u001b[0;32m     <a href='vscode-notebook-cell:/c%3A/Users/rober/Documents/GitHub/tire_analysis/fits/rear_long.ipynb#X15sZmlsZQ%3D%3D?line=10'>11</a>\u001b[0m fig \u001b[39m=\u001b[39m plt\u001b[39m.\u001b[39mfigure()\n\u001b[0;32m     <a href='vscode-notebook-cell:/c%3A/Users/rober/Documents/GitHub/tire_analysis/fits/rear_long.ipynb#X15sZmlsZQ%3D%3D?line=11'>12</a>\u001b[0m ax \u001b[39m=\u001b[39m Axes3D(fig, auto_add_to_figure\u001b[39m=\u001b[39m\u001b[39mFalse\u001b[39;00m)\n\u001b[1;32m---> <a href='vscode-notebook-cell:/c%3A/Users/rober/Documents/GitHub/tire_analysis/fits/rear_long.ipynb#X15sZmlsZQ%3D%3D?line=13'>14</a>\u001b[0m ax\u001b[39m.\u001b[39;49mplot_surface(X, Y, Z)\n\u001b[0;32m     <a href='vscode-notebook-cell:/c%3A/Users/rober/Documents/GitHub/tire_analysis/fits/rear_long.ipynb#X15sZmlsZQ%3D%3D?line=15'>16</a>\u001b[0m ax\u001b[39m.\u001b[39mset_xlabel(\u001b[39m'\u001b[39m\u001b[39mNormal Load (N)\u001b[39m\u001b[39m'\u001b[39m)\n\u001b[0;32m     <a href='vscode-notebook-cell:/c%3A/Users/rober/Documents/GitHub/tire_analysis/fits/rear_long.ipynb#X15sZmlsZQ%3D%3D?line=16'>17</a>\u001b[0m ax\u001b[39m.\u001b[39mset_ylabel(\u001b[39m'\u001b[39m\u001b[39mSlip Angle (deg)\u001b[39m\u001b[39m'\u001b[39m)\n",
      "File \u001b[1;32m~\\AppData\\Local\\Packages\\PythonSoftwareFoundation.Python.3.9_qbz5n2kfra8p0\\LocalCache\\local-packages\\Python39\\site-packages\\matplotlib\\_api\\deprecation.py:431\u001b[0m, in \u001b[0;36mdelete_parameter.<locals>.wrapper\u001b[1;34m(*inner_args, **inner_kwargs)\u001b[0m\n\u001b[0;32m    421\u001b[0m     deprecation_addendum \u001b[39m=\u001b[39m (\n\u001b[0;32m    422\u001b[0m         \u001b[39mf\u001b[39m\u001b[39m\"\u001b[39m\u001b[39mIf any parameter follows \u001b[39m\u001b[39m{\u001b[39;00mname\u001b[39m!r}\u001b[39;00m\u001b[39m, they should be passed as \u001b[39m\u001b[39m\"\u001b[39m\n\u001b[0;32m    423\u001b[0m         \u001b[39mf\u001b[39m\u001b[39m\"\u001b[39m\u001b[39mkeyword, not positionally.\u001b[39m\u001b[39m\"\u001b[39m)\n\u001b[0;32m    424\u001b[0m     warn_deprecated(\n\u001b[0;32m    425\u001b[0m         since,\n\u001b[0;32m    426\u001b[0m         name\u001b[39m=\u001b[39m\u001b[39mrepr\u001b[39m(name),\n\u001b[1;32m   (...)\u001b[0m\n\u001b[0;32m    429\u001b[0m                  \u001b[39melse\u001b[39;00m deprecation_addendum,\n\u001b[0;32m    430\u001b[0m         \u001b[39m*\u001b[39m\u001b[39m*\u001b[39mkwargs)\n\u001b[1;32m--> 431\u001b[0m \u001b[39mreturn\u001b[39;00m func(\u001b[39m*\u001b[39minner_args, \u001b[39m*\u001b[39m\u001b[39m*\u001b[39minner_kwargs)\n",
      "File \u001b[1;32m~\\AppData\\Local\\Packages\\PythonSoftwareFoundation.Python.3.9_qbz5n2kfra8p0\\LocalCache\\local-packages\\Python39\\site-packages\\mpl_toolkits\\mplot3d\\axes3d.py:1658\u001b[0m, in \u001b[0;36mAxes3D.plot_surface\u001b[1;34m(self, X, Y, Z, norm, vmin, vmax, lightsource, *args, **kwargs)\u001b[0m\n\u001b[0;32m   1655\u001b[0m had_data \u001b[39m=\u001b[39m \u001b[39mself\u001b[39m\u001b[39m.\u001b[39mhas_data()\n\u001b[0;32m   1657\u001b[0m \u001b[39mif\u001b[39;00m Z\u001b[39m.\u001b[39mndim \u001b[39m!=\u001b[39m \u001b[39m2\u001b[39m:\n\u001b[1;32m-> 1658\u001b[0m     \u001b[39mraise\u001b[39;00m \u001b[39mValueError\u001b[39;00m(\u001b[39m\"\u001b[39m\u001b[39mArgument Z must be 2-dimensional.\u001b[39m\u001b[39m\"\u001b[39m)\n\u001b[0;32m   1659\u001b[0m \u001b[39mif\u001b[39;00m np\u001b[39m.\u001b[39many(np\u001b[39m.\u001b[39misnan(Z)):\n\u001b[0;32m   1660\u001b[0m     _api\u001b[39m.\u001b[39mwarn_external(\n\u001b[0;32m   1661\u001b[0m         \u001b[39m\"\u001b[39m\u001b[39mZ contains NaN values. This may result in rendering \u001b[39m\u001b[39m\"\u001b[39m\n\u001b[0;32m   1662\u001b[0m         \u001b[39m\"\u001b[39m\u001b[39martifacts.\u001b[39m\u001b[39m\"\u001b[39m)\n",
      "\u001b[1;31mValueError\u001b[0m: Argument Z must be 2-dimensional."
     ]
    },
    {
     "data": {
      "text/plain": [
       "<Figure size 432x288 with 0 Axes>"
      ]
     },
     "metadata": {},
     "output_type": "display_data"
    }
   ],
   "source": [
    "z_fitted = []\n",
    "for i in range(len(x_lst)):\n",
    "    z_fitted.append(fit([x_lst[i], y_lst[i]], *parameters))\n",
    "\n",
    "model_x_data = np.linspace(min(x_lst), max(x_lst), 30)\n",
    "model_y_data = np.linspace(min(y_lst), max(y_lst), 30)\n",
    "model_z_data = np.linspace(min(z_fitted), max(z_fitted), 30)\n",
    "\n",
    "X, Y, Z = np.meshgrid(model_x_data, model_y_data, model_z_data)\n",
    "\n",
    "fig = plt.figure()\n",
    "ax = Axes3D(fig, auto_add_to_figure=False)\n",
    "\n",
    "ax.plot_surface(X, Y, Z)\n",
    "\n",
    "ax.set_xlabel('Normal Load (N)')\n",
    "ax.set_ylabel('Slip Angle (deg)')\n",
    "ax.set_zlabel('Long Force (N)')\n",
    "\n",
    "plt.show()"
   ]
  },
  {
   "cell_type": "code",
   "execution_count": 73,
   "metadata": {},
   "outputs": [
    {
     "ename": "TypeError",
     "evalue": "loop of ufunc does not support argument 0 of type float which has no callable arctan method",
     "output_type": "error",
     "traceback": [
      "\u001b[1;31m---------------------------------------------------------------------------\u001b[0m",
      "\u001b[1;31mAttributeError\u001b[0m                            Traceback (most recent call last)",
      "\u001b[1;31mAttributeError\u001b[0m: 'float' object has no attribute 'arctan'",
      "\nThe above exception was the direct cause of the following exception:\n",
      "\u001b[1;31mTypeError\u001b[0m                                 Traceback (most recent call last)",
      "\u001b[1;32mc:\\Users\\rober\\Documents\\GitHub\\tire_analysis\\fits\\rear_long.ipynb Cell 12\u001b[0m in \u001b[0;36m<cell line: 9>\u001b[1;34m()\u001b[0m\n\u001b[0;32m      <a href='vscode-notebook-cell:/c%3A/Users/rober/Documents/GitHub/tire_analysis/fits/rear_long.ipynb#X13sZmlsZQ%3D%3D?line=5'>6</a>\u001b[0m fig \u001b[39m=\u001b[39m plt\u001b[39m.\u001b[39mfigure()\n\u001b[0;32m      <a href='vscode-notebook-cell:/c%3A/Users/rober/Documents/GitHub/tire_analysis/fits/rear_long.ipynb#X13sZmlsZQ%3D%3D?line=6'>7</a>\u001b[0m ax \u001b[39m=\u001b[39m Axes3D(fig, auto_add_to_figure\u001b[39m=\u001b[39m\u001b[39mFalse\u001b[39;00m)\n\u001b[1;32m----> <a href='vscode-notebook-cell:/c%3A/Users/rober/Documents/GitHub/tire_analysis/fits/rear_long.ipynb#X13sZmlsZQ%3D%3D?line=8'>9</a>\u001b[0m Z \u001b[39m=\u001b[39m fit(np\u001b[39m.\u001b[39;49marray([X, Y], dtype\u001b[39m=\u001b[39;49m\u001b[39mobject\u001b[39;49m), \u001b[39m*\u001b[39;49mparameters)\n\u001b[0;32m     <a href='vscode-notebook-cell:/c%3A/Users/rober/Documents/GitHub/tire_analysis/fits/rear_long.ipynb#X13sZmlsZQ%3D%3D?line=10'>11</a>\u001b[0m ax\u001b[39m.\u001b[39mplot_surface(X, Y, Z)\n\u001b[0;32m     <a href='vscode-notebook-cell:/c%3A/Users/rober/Documents/GitHub/tire_analysis/fits/rear_long.ipynb#X13sZmlsZQ%3D%3D?line=12'>13</a>\u001b[0m ax\u001b[39m.\u001b[39mset_xlabel(\u001b[39m'\u001b[39m\u001b[39mNormal Load (N)\u001b[39m\u001b[39m'\u001b[39m)\n",
      "\u001b[1;32mc:\\Users\\rober\\Documents\\GitHub\\tire_analysis\\fits\\rear_long.ipynb Cell 12\u001b[0m in \u001b[0;36mfit\u001b[1;34m(data, B, C, D, E)\u001b[0m\n\u001b[0;32m     <a href='vscode-notebook-cell:/c%3A/Users/rober/Documents/GitHub/tire_analysis/fits/rear_long.ipynb#X13sZmlsZQ%3D%3D?line=19'>20</a>\u001b[0m FZ \u001b[39m=\u001b[39m data[\u001b[39m0\u001b[39m]\n\u001b[0;32m     <a href='vscode-notebook-cell:/c%3A/Users/rober/Documents/GitHub/tire_analysis/fits/rear_long.ipynb#X13sZmlsZQ%3D%3D?line=20'>21</a>\u001b[0m SR \u001b[39m=\u001b[39m data[\u001b[39m1\u001b[39m]\n\u001b[1;32m---> <a href='vscode-notebook-cell:/c%3A/Users/rober/Documents/GitHub/tire_analysis/fits/rear_long.ipynb#X13sZmlsZQ%3D%3D?line=22'>23</a>\u001b[0m \u001b[39mreturn\u001b[39;00m FZ \u001b[39m*\u001b[39m D \u001b[39m*\u001b[39m np\u001b[39m.\u001b[39msin(C \u001b[39m*\u001b[39m np\u001b[39m.\u001b[39marctan(B \u001b[39m*\u001b[39m SR \u001b[39m-\u001b[39m E \u001b[39m*\u001b[39m (B \u001b[39m*\u001b[39m SR \u001b[39m-\u001b[39m np\u001b[39m.\u001b[39;49marctan(B \u001b[39m*\u001b[39;49m SR))))\n",
      "\u001b[1;31mTypeError\u001b[0m: loop of ufunc does not support argument 0 of type float which has no callable arctan method"
     ]
    },
    {
     "data": {
      "text/plain": [
       "<Figure size 432x288 with 0 Axes>"
      ]
     },
     "metadata": {},
     "output_type": "display_data"
    }
   ],
   "source": [
    "model_x_data = np.linspace(min(x_lst), max(x_lst), 30)\n",
    "model_y_data = np.linspace(min(y_lst), max(y_lst), 30)\n",
    "\n",
    "X, Y = np.meshgrid(model_x_data, model_y_data)\n",
    "\n",
    "fig = plt.figure()\n",
    "ax = Axes3D(fig, auto_add_to_figure=False)\n",
    "\n",
    "Z = fit(np.array([X, Y], dtype=object), *parameters)\n",
    "\n",
    "ax.plot_surface(X, Y, Z)\n",
    "\n",
    "ax.set_xlabel('Normal Load (N)')\n",
    "ax.set_ylabel('Slip Angle (deg)')\n",
    "ax.set_zlabel('Long Force (N)')\n",
    "\n",
    "plt.show()"
   ]
  }
 ],
 "metadata": {
  "kernelspec": {
   "display_name": "Python 3.9.13 64-bit (windows store)",
   "language": "python",
   "name": "python3"
  },
  "language_info": {
   "codemirror_mode": {
    "name": "ipython",
    "version": 3
   },
   "file_extension": ".py",
   "mimetype": "text/x-python",
   "name": "python",
   "nbconvert_exporter": "python",
   "pygments_lexer": "ipython3",
   "version": "3.9.13"
  },
  "orig_nbformat": 4,
  "vscode": {
   "interpreter": {
    "hash": "48052aeadcf5257b9707a4845fb69de6a314b1cdced36a5637ac3ec4d3024794"
   }
  }
 },
 "nbformat": 4,
 "nbformat_minor": 2
}
